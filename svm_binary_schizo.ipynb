{
 "cells": [
  {
   "cell_type": "code",
   "execution_count": 2,
   "metadata": {},
   "outputs": [],
   "source": [
    "import numpy as np\n",
    "import pandas as pd\n",
    "import joblib\n",
    "from sklearn.model_selection import train_test_split, GridSearchCV\n",
    "from sklearn.preprocessing import StandardScaler, LabelEncoder\n",
    "from sklearn.svm import SVC\n",
    "from sklearn.metrics import accuracy_score, roc_auc_score\n",
    "from imblearn.over_sampling import SMOTE\n",
    "from sklearn.utils.class_weight import compute_class_weight"
   ]
  },
  {
   "cell_type": "code",
   "execution_count": 3,
   "metadata": {},
   "outputs": [],
   "source": [
    "relevant_columns = [\n",
    "    \"main.disorder\",  # Target variable\n",
    "\n",
    "    # Schizophrenia (alpha PSD)\n",
    "    \"AB.C.alpha.a.FP1\", \"AB.C.alpha.b.FP2\", \"AB.C.alpha.c.F7\", \"AB.C.alpha.d.F3\",\n",
    "    \"AB.C.alpha.e.Fz\", \"AB.C.alpha.f.F4\", \"AB.C.alpha.g.F8\", \"AB.C.alpha.h.T3\",\n",
    "    \"AB.C.alpha.i.C3\", \"AB.C.alpha.j.Cz\", \"AB.C.alpha.k.C4\", \"AB.C.alpha.l.T4\",\n",
    "    \"AB.C.alpha.m.T5\", \"AB.C.alpha.n.P3\", \"AB.C.alpha.o.Pz\", \"AB.C.alpha.p.P4\",\n",
    "    \"AB.C.alpha.q.T6\", \"AB.C.alpha.r.O1\", \"AB.C.alpha.s.O2\",\n",
    "\n",
    "    # Trauma and stress-related disorders (beta FC)\n",
    "    \"COH.D.beta.a.FP1.b.FP2\", \"COH.D.beta.c.F7.d.F3\", \"COH.D.beta.e.Fz.f.F4\",\n",
    "    \"COH.D.beta.g.F8.h.T3\", \"COH.D.beta.i.C3.j.Cz\", \"COH.D.beta.k.C4.l.T4\",\n",
    "    \"COH.D.beta.m.T5.n.P3\", \"COH.D.beta.o.Pz.p.P4\", \"COH.D.beta.q.T6.r.O1\",\n",
    "\n",
    "    # Anxiety disorders (whole band PSD: all frequency bands)\n",
    "    \"AB.A.delta.a.FP1\", \"AB.A.delta.b.FP2\", \"AB.B.theta.a.FP1\", \"AB.B.theta.b.FP2\",\n",
    "    \"AB.C.alpha.a.FP1\", \"AB.C.alpha.b.FP2\", \"AB.D.beta.a.FP1\", \"AB.D.beta.b.FP2\",\n",
    "    \"AB.E.highbeta.a.FP1\", \"AB.E.highbeta.b.FP2\", \"AB.F.gamma.a.FP1\", \"AB.F.gamma.b.FP2\",\n",
    "\n",
    "    # Mood disorders (theta FC)\n",
    "    \"COH.B.theta.a.FP1.b.FP2\", \"COH.B.theta.c.F7.d.F3\", \"COH.B.theta.e.Fz.f.F4\",\n",
    "    \"COH.B.theta.g.F8.h.T3\", \"COH.B.theta.i.C3.j.Cz\", \"COH.B.theta.k.C4.l.T4\",\n",
    "    \"COH.B.theta.m.T5.n.P3\", \"COH.B.theta.o.Pz.p.P4\", \"COH.B.theta.q.T6.r.O1\",\n",
    "\n",
    "    # Addictive disorders (theta PSD)\n",
    "    \"AB.B.theta.a.FP1\", \"AB.B.theta.b.FP2\", \"AB.B.theta.c.F7\", \"AB.B.theta.d.F3\",\n",
    "    \"AB.B.theta.e.Fz\", \"AB.B.theta.f.F4\", \"AB.B.theta.g.F8\", \"AB.B.theta.h.T3\",\n",
    "    \"AB.B.theta.i.C3\", \"AB.B.theta.j.Cz\", \"AB.B.theta.k.C4\", \"AB.B.theta.l.T4\",\n",
    "    \"AB.B.theta.m.T5\", \"AB.B.theta.n.P3\", \"AB.B.theta.o.Pz\", \"AB.B.theta.p.P4\",\n",
    "    \"AB.B.theta.q.T6\", \"AB.B.theta.r.O1\", \"AB.B.theta.s.O2\",\n",
    "\n",
    "    # Obsessive-compulsive disorder (gamma FC)\n",
    "    \"COH.F.gamma.a.FP1.b.FP2\", \"COH.F.gamma.c.F7.d.F3\", \"COH.F.gamma.e.Fz.f.F4\",\n",
    "    \"COH.F.gamma.g.F8.h.T3\", \"COH.F.gamma.i.C3.j.Cz\", \"COH.F.gamma.k.C4.l.T4\",\n",
    "    \"COH.F.gamma.m.T5.n.P3\", \"COH.F.gamma.o.Pz.p.P4\", \"COH.F.gamma.q.T6.r.O1\"\n",
    "]\n"
   ]
  },
  {
   "cell_type": "code",
   "execution_count": 4,
   "metadata": {},
   "outputs": [],
   "source": [
    "# Load dataset with only relevant columns\n",
    "data = pd.read_csv(\"data/train.csv\", usecols=relevant_columns)\n",
    "\n",
    "# Filter only Mood Disorder and Healthy Control\n",
    "data = data[data[\"main.disorder\"].isin([\"Healthy control\", \"Schizophrenia\"])]\n",
    "\n",
    "# Encode labels manually: Healthy Control -> 0, Mood Disorder -> 1\n",
    "data[\"main.disorder\"] = data[\"main.disorder\"].map({\n",
    "    \"Healthy control\": 0,\n",
    "    \"Schizophrenia\": 1\n",
    "})\n",
    "\n",
    "# Features and labels\n",
    "X = data.drop(columns=[\"main.disorder\"]).values\n",
    "y = data[\"main.disorder\"].values.astype(int)  # Ensure integer labels\n",
    "\n",
    "# Standardize features\n",
    "scaler = StandardScaler()\n",
    "X_scaled = scaler.fit_transform(X)\n",
    "\n",
    "# Save the scaler\n",
    "joblib.dump(scaler, \"svm_schizo_scaler.pkl\")\n",
    "\n",
    "# Split into training and testing\n",
    "X_train, X_test, y_train, y_test = train_test_split(X_scaled, y, test_size=0.2, random_state=42)\n"
   ]
  },
  {
   "cell_type": "code",
   "execution_count": 5,
   "metadata": {},
   "outputs": [
    {
     "name": "stdout",
     "output_type": "stream",
     "text": [
      "Fitting 5 folds for each of 10 candidates, totalling 50 fits\n"
     ]
    },
    {
     "data": {
      "text/plain": [
       "['svm_schizo_tuned.pkl']"
      ]
     },
     "execution_count": 5,
     "metadata": {},
     "output_type": "execute_result"
    }
   ],
   "source": [
    "# ---------------- Hyperparameter Tuning (Grid Search) ----------------\n",
    "param_grid = {\n",
    "    \"C\": [0.1, 0.5, 1, 5, 10],  # Regularization parameter\n",
    "    \"kernel\": [\"linear\", \"rbf\"],  # Linear and RBF kernel\n",
    "}\n",
    "\n",
    "svm = SVC(probability=True, class_weight=\"balanced\", random_state=42)\n",
    "\n",
    "grid_search = GridSearchCV(svm, param_grid, cv=5, scoring=\"roc_auc\", n_jobs=-1, verbose=1)\n",
    "grid_search.fit(X_train, y_train)\n",
    "\n",
    "# Get the best model\n",
    "best_svm = grid_search.best_estimator_\n",
    "\n",
    "# Save the trained SVM model\n",
    "joblib.dump(best_svm, \"svm_schizo_tuned.pkl\")"
   ]
  },
  {
   "cell_type": "code",
   "execution_count": 6,
   "metadata": {},
   "outputs": [
    {
     "name": "stdout",
     "output_type": "stream",
     "text": [
      "\n",
      " Tuned SVM Model for Trauma Disorder vs. Healthy Control\n",
      " Best Parameters: {'C': 0.1, 'kernel': 'linear'}\n",
      " Accuracy: 0.6500\n",
      " AUC Score: 0.7293\n"
     ]
    }
   ],
   "source": [
    "# ---------------- Evaluate Best Model ----------------\n",
    "y_pred = best_svm.predict(X_test)\n",
    "y_pred_prob = best_svm.predict_proba(X_test)[:, 1]\n",
    "\n",
    "accuracy = accuracy_score(y_test, y_pred)\n",
    "auc = roc_auc_score(y_test, y_pred_prob)\n",
    "\n",
    "print(f\"\\n Tuned SVM Model for Trauma Disorder vs. Healthy Control\")\n",
    "print(f\" Best Parameters: {grid_search.best_params_}\")\n",
    "print(f\" Accuracy: {accuracy:.4f}\")\n",
    "print(f\" AUC Score: {auc:.4f}\")"
   ]
  },
  {
   "cell_type": "code",
   "execution_count": 7,
   "metadata": {},
   "outputs": [],
   "source": [
    "def predict_mood_disorder(new_data_path):\n",
    "    \"\"\"\n",
    "    Loads new EEG data, scales it, and predicts Mood Disorder probability.\n",
    "    \"\"\"\n",
    "    # Load new data\n",
    "    new_data = pd.read_csv(new_data_path, usecols=relevant_columns[1:])  # Exclude \"main.disorder\"\n",
    "    \n",
    "    # Load saved scaler and model\n",
    "    scaler = joblib.load(\"svm_schizo_scaler.pkl\")\n",
    "    svm = joblib.load(\"svm_schizo_tuned.pkl\")\n",
    "\n",
    "    # Load new data\n",
    "    new_data = pd.read_csv(new_data_path, usecols=relevant_columns[1:])  # Exclude \"main.disorder\"\n",
    "\n",
    "# Convert DataFrame to NumPy before applying StandardScaler\n",
    "    new_data_scaled = scaler.transform(new_data.values)  # <-- FIXED\n",
    "\n",
    "\n",
    "    # Predict probabilities\n",
    "    predictions = svm.predict_proba(new_data_scaled)[:, 1]  # Probability of Mood Disorder\n",
    "\n",
    "    return predictions"
   ]
  },
  {
   "cell_type": "code",
   "execution_count": 8,
   "metadata": {},
   "outputs": [],
   "source": [
    "preds = predict_mood_disorder(\"data.csv\")\n"
   ]
  },
  {
   "cell_type": "code",
   "execution_count": 9,
   "metadata": {},
   "outputs": [
    {
     "name": "stdout",
     "output_type": "stream",
     "text": [
      "🔹 Optimal Decision Threshold: 0.5145\n"
     ]
    }
   ],
   "source": [
    "from sklearn.metrics import roc_curve\n",
    "\n",
    "# Compute ROC curve\n",
    "fpr, tpr, thresholds = roc_curve(y_test, y_pred_prob)\n",
    "\n",
    "# Find the optimal threshold (Youden’s J statistic: max(TPR - FPR))\n",
    "optimal_idx = np.argmax(tpr - fpr)\n",
    "optimal_threshold = thresholds[optimal_idx]\n",
    "\n",
    "print(f\"🔹 Optimal Decision Threshold: {optimal_threshold:.4f}\")\n",
    "\n",
    "# Convert probabilities to labels using the optimal threshold\n",
    "pred_labels = (y_pred_prob >= optimal_threshold).astype(int)\n"
   ]
  },
  {
   "cell_type": "code",
   "execution_count": 10,
   "metadata": {},
   "outputs": [
    {
     "name": "stdout",
     "output_type": "stream",
     "text": [
      "[0.95114961 0.54243625 0.63191722 0.45316052 0.41281206 0.55329271\n",
      " 0.58461057 0.5749847  0.71861409 0.42004966 0.70770466 0.65877106\n",
      " 0.35342861 0.41986318 0.5        0.68562113 0.66204517 0.50744768\n",
      " 0.57325995 0.70229464 0.35351106 0.43668879 0.67622962 0.80373184\n",
      " 0.82376438 0.56771203 0.47400552 0.57122906 0.31290611 0.51960377\n",
      " 0.46819661 0.79094572 0.45962971 0.76610021 0.65954216 0.6738312\n",
      " 0.48794225 0.65119998 0.57294656 0.55632919 0.43538076 0.4605318\n",
      " 0.33816833 0.94749969 0.76110779 0.40646637 0.52389803 0.69677617\n",
      " 0.30080091 0.57166593 0.29689743 0.8190852  0.27920948 0.68713374\n",
      " 0.51123246 0.50719879 0.94724246 0.45520419 0.51741134 0.33897545\n",
      " 0.55254117 0.32361236 0.39644331 0.6650027  0.68383328 0.6590403\n",
      " 0.57807248 0.84732089 0.51865249 0.62764301 0.72311722 0.62055565\n",
      " 0.64564217 0.90667681 0.62955276 0.6570004  0.57901716 0.71839118\n",
      " 0.53222977 0.73990151 0.45813959 0.85062732 0.31780562 0.48736146\n",
      " 0.34304414 0.71653816 0.49390871 0.50694165 0.51723753 0.34153609\n",
      " 0.60505972 0.60778514 0.85387924]\n"
     ]
    }
   ],
   "source": [
    "print(preds)"
   ]
  },
  {
   "cell_type": "code",
   "execution_count": 12,
   "metadata": {},
   "outputs": [
    {
     "name": "stdout",
     "output_type": "stream",
     "text": [
      "\n",
      "Predicted Labels:\n",
      " ['Schizophrenia', 'Schizophrenia', 'Schizophrenia', 'Healthy control', 'Healthy control', 'Schizophrenia', 'Schizophrenia', 'Schizophrenia', 'Schizophrenia', 'Healthy control', 'Schizophrenia', 'Schizophrenia', 'Healthy control', 'Healthy control', 'Healthy control', 'Schizophrenia', 'Schizophrenia', 'Healthy control', 'Schizophrenia', 'Schizophrenia', 'Healthy control', 'Healthy control', 'Schizophrenia', 'Schizophrenia', 'Schizophrenia', 'Schizophrenia', 'Healthy control', 'Schizophrenia', 'Healthy control', 'Schizophrenia', 'Healthy control', 'Schizophrenia', 'Healthy control', 'Schizophrenia', 'Schizophrenia', 'Schizophrenia', 'Healthy control', 'Schizophrenia', 'Schizophrenia', 'Schizophrenia', 'Healthy control', 'Healthy control', 'Healthy control', 'Schizophrenia', 'Schizophrenia', 'Healthy control', 'Schizophrenia', 'Schizophrenia', 'Healthy control', 'Schizophrenia', 'Healthy control', 'Schizophrenia', 'Healthy control', 'Schizophrenia', 'Healthy control', 'Healthy control', 'Schizophrenia', 'Healthy control', 'Schizophrenia', 'Healthy control', 'Schizophrenia', 'Healthy control', 'Healthy control', 'Schizophrenia', 'Schizophrenia', 'Schizophrenia', 'Schizophrenia', 'Schizophrenia', 'Schizophrenia', 'Schizophrenia', 'Schizophrenia', 'Schizophrenia', 'Schizophrenia', 'Schizophrenia', 'Schizophrenia', 'Schizophrenia', 'Schizophrenia', 'Schizophrenia', 'Schizophrenia', 'Schizophrenia', 'Healthy control', 'Schizophrenia', 'Healthy control', 'Healthy control', 'Healthy control', 'Schizophrenia', 'Healthy control', 'Healthy control', 'Schizophrenia', 'Healthy control', 'Schizophrenia', 'Schizophrenia', 'Schizophrenia']\n"
     ]
    }
   ],
   "source": [
    "def decode_predictions(preds):\n",
    "    \"\"\"\n",
    "    Convert predictions (0,1) back to disorder labels.\n",
    "    \"\"\"\n",
    "    label_map = {0: \"Healthy control\", 1: \"Schizophrenia\"}\n",
    "    return [label_map[pred] for pred in preds]\n",
    "\n",
    "# Example usage\n",
    "pred_labels = (preds >= 0.5145).astype(int)  # Convert probabilities to binary labels\n",
    "decoded_labels = decode_predictions(pred_labels)\n",
    "\n",
    "print(\"\\nPredicted Labels:\\n\", decoded_labels)"
   ]
  },
  {
   "cell_type": "code",
   "execution_count": 13,
   "metadata": {},
   "outputs": [
    {
     "name": "stdout",
     "output_type": "stream",
     "text": [
      " Predictions saved to 'predicted_labels.csv'\n"
     ]
    }
   ],
   "source": [
    "import pandas as pd\n",
    "\n",
    "# Convert predictions into a DataFrame\n",
    "output_df = pd.DataFrame({\"Predicted Label\": decoded_labels})\n",
    "\n",
    "# Save to CSV\n",
    "output_df.to_csv(\"predicted_schizo_labels.csv\", index=False)\n",
    "\n",
    "print(\" Predictions saved to 'predicted_labels.csv'\")\n"
   ]
  }
 ],
 "metadata": {
  "kernelspec": {
   "display_name": "rice",
   "language": "python",
   "name": "python3"
  },
  "language_info": {
   "codemirror_mode": {
    "name": "ipython",
    "version": 3
   },
   "file_extension": ".py",
   "mimetype": "text/x-python",
   "name": "python",
   "nbconvert_exporter": "python",
   "pygments_lexer": "ipython3",
   "version": "3.9.19"
  }
 },
 "nbformat": 4,
 "nbformat_minor": 2
}
