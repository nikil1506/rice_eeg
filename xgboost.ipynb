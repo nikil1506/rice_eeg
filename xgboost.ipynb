{
 "cells": [
  {
   "cell_type": "code",
   "execution_count": 8,
   "metadata": {},
   "outputs": [],
   "source": [
    "import xgboost as xgb\n",
    "from sklearn.model_selection import train_test_split\n",
    "from sklearn.preprocessing import LabelEncoder, StandardScaler\n",
    "from sklearn.metrics import accuracy_score, classification_report\n",
    "import common as common"
   ]
  },
  {
   "cell_type": "code",
   "execution_count": 5,
   "metadata": {},
   "outputs": [],
   "source": [
    "train_df = common.get_train_df()\n",
    "target_column, feature_column = common.get_column_names(train_df)\n",
    "\n",
    "label_encoder = LabelEncoder()\n",
    "scaler = StandardScaler()\n",
    "\n",
    "y = label_encoder.fit_transform(train_df[target_column])\n",
    "X = scaler.fit_transform(train_df[feature_column])"
   ]
  },
  {
   "cell_type": "code",
   "execution_count": 6,
   "metadata": {},
   "outputs": [
    {
     "name": "stderr",
     "output_type": "stream",
     "text": [
      "/opt/anaconda3/lib/python3.11/site-packages/xgboost/core.py:158: UserWarning: [23:01:28] WARNING: /Users/runner/work/xgboost/xgboost/src/learner.cc:740: \n",
      "Parameters: { \"use_label_encoder\" } are not used.\n",
      "\n",
      "  warnings.warn(smsg, UserWarning)\n"
     ]
    },
    {
     "name": "stdout",
     "output_type": "stream",
     "text": [
      "Validation Accuracy: 0.32748538011695905\n",
      "Classification Report:\n",
      "                                     precision    recall  f1-score   support\n",
      "\n",
      "                Addictive disorder       0.34      0.41      0.37        34\n",
      "                  Anxiety disorder       0.00      0.00      0.00        20\n",
      "                   Healthy control       0.67      0.20      0.31        20\n",
      "                     Mood disorder       0.35      0.68      0.46        53\n",
      "     Obsessive compulsive disorder       0.00      0.00      0.00         5\n",
      "                     Schizophrenia       0.00      0.00      0.00        21\n",
      "Trauma and stress related disorder       0.29      0.11      0.16        18\n",
      "\n",
      "                          accuracy                           0.33       171\n",
      "                         macro avg       0.23      0.20      0.19       171\n",
      "                      weighted avg       0.28      0.33      0.27       171\n",
      "\n"
     ]
    }
   ],
   "source": [
    "X_train, X_val, y_train, y_val = train_test_split(X, y, test_size=0.2, random_state=42)\n",
    "\n",
    "# Train XGBoost model\n",
    "xgb_model = xgb.XGBClassifier(\n",
    "    n_estimators=200,\n",
    "    learning_rate=0.05,\n",
    "    max_depth=6,\n",
    "    subsample=0.8,\n",
    "    colsample_bytree=0.8,\n",
    "    random_state=42,\n",
    "    use_label_encoder=False,\n",
    "    eval_metric=\"mlogloss\"\n",
    ")\n",
    "xgb_model.fit(X_train, y_train)\n",
    "\n",
    "# Evaluate on validation set\n",
    "y_pred = xgb_model.predict(X_val)\n",
    "accuracy = accuracy_score(y_val, y_pred)\n",
    "print(\"Validation Accuracy:\", accuracy)\n",
    "print(\"Classification Report:\\n\", classification_report(y_val, y_pred, target_names=label_encoder.classes_))"
   ]
  }
 ],
 "metadata": {
  "kernelspec": {
   "display_name": "base",
   "language": "python",
   "name": "python3"
  },
  "language_info": {
   "codemirror_mode": {
    "name": "ipython",
    "version": 3
   },
   "file_extension": ".py",
   "mimetype": "text/x-python",
   "name": "python",
   "nbconvert_exporter": "python",
   "pygments_lexer": "ipython3",
   "version": "3.11.0"
  }
 },
 "nbformat": 4,
 "nbformat_minor": 2
}
