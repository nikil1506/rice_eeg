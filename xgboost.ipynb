{
 "cells": [
  {
   "cell_type": "code",
   "execution_count": 6,
   "metadata": {},
   "outputs": [],
   "source": [
    "import xgboost as xgb\n",
    "from sklearn.model_selection import train_test_split\n",
    "from sklearn.preprocessing import LabelEncoder, StandardScaler\n",
    "from sklearn.metrics import accuracy_score, classification_report\n",
    "import common as common\n",
    "import pandas as pd"
   ]
  },
  {
   "cell_type": "code",
   "execution_count": 7,
   "metadata": {},
   "outputs": [],
   "source": [
    "train_df = common.get_train_df()\n",
    "train_df = common.over_sample_df(train_df)\n",
    "target_column, feature_column = common.get_column_names(train_df)\n",
    "\n",
    "label_encoder = LabelEncoder()\n",
    "scaler = StandardScaler()\n",
    "\n",
    "y = label_encoder.fit_transform(train_df[target_column])\n",
    "X = scaler.fit_transform(train_df[feature_column])"
   ]
  },
  {
   "cell_type": "code",
   "execution_count": 8,
   "metadata": {},
   "outputs": [
    {
     "name": "stderr",
     "output_type": "stream",
     "text": [
      "/opt/anaconda3/lib/python3.11/site-packages/xgboost/core.py:158: UserWarning: [00:55:26] WARNING: /Users/runner/work/xgboost/xgboost/src/learner.cc:740: \n",
      "Parameters: { \"use_label_encoder\" } are not used.\n",
      "\n",
      "  warnings.warn(smsg, UserWarning)\n"
     ]
    },
    {
     "name": "stdout",
     "output_type": "stream",
     "text": [
      "Validation Accuracy: 0.6085714285714285\n",
      "Classification Report:\n",
      "                                     precision    recall  f1-score   support\n",
      "\n",
      "                Addictive disorder       0.37      0.38      0.37        50\n",
      "                  Anxiety disorder       0.70      0.74      0.72        50\n",
      "                   Healthy control       0.71      0.75      0.73        59\n",
      "                     Mood disorder       0.42      0.22      0.29        51\n",
      "     Obsessive compulsive disorder       0.62      0.94      0.74        34\n",
      "                     Schizophrenia       0.58      0.78      0.67        45\n",
      "Trauma and stress related disorder       0.78      0.57      0.66        61\n",
      "\n",
      "                          accuracy                           0.61       350\n",
      "                         macro avg       0.60      0.62      0.60       350\n",
      "                      weighted avg       0.60      0.61      0.59       350\n",
      "\n"
     ]
    }
   ],
   "source": [
    "X_train, X_val, y_train, y_val = train_test_split(X, y, test_size=0.2, random_state=42)\n",
    "\n",
    "# Train XGBoost model\n",
    "xgb_model = xgb.XGBClassifier(\n",
    "    n_estimators=200,\n",
    "    learning_rate=0.0005,\n",
    "    max_depth=6,\n",
    "    subsample=0.8,\n",
    "    colsample_bytree=0.8,\n",
    "    random_state=42,\n",
    "    use_label_encoder=False,\n",
    "    eval_metric=\"mlogloss\"\n",
    ")\n",
    "xgb_model.fit(X_train, y_train)\n",
    "\n",
    "# Evaluate on validation set\n",
    "y_pred = xgb_model.predict(X_val)\n",
    "accuracy = accuracy_score(y_val, y_pred)\n",
    "print(\"Validation Accuracy:\", accuracy)\n",
    "print(\"Classification Report:\\n\", classification_report(y_val, y_pred, target_names=label_encoder.classes_))"
   ]
  },
  {
   "cell_type": "code",
   "execution_count": 9,
   "metadata": {},
   "outputs": [
    {
     "data": {
      "text/html": [
       "<div>\n",
       "<style scoped>\n",
       "    .dataframe tbody tr th:only-of-type {\n",
       "        vertical-align: middle;\n",
       "    }\n",
       "\n",
       "    .dataframe tbody tr th {\n",
       "        vertical-align: top;\n",
       "    }\n",
       "\n",
       "    .dataframe thead th {\n",
       "        text-align: right;\n",
       "    }\n",
       "</style>\n",
       "<table border=\"1\" class=\"dataframe\">\n",
       "  <thead>\n",
       "    <tr style=\"text-align: right;\">\n",
       "      <th></th>\n",
       "      <th>ID</th>\n",
       "      <th>y_pred</th>\n",
       "      <th>y_true</th>\n",
       "    </tr>\n",
       "  </thead>\n",
       "  <tbody>\n",
       "    <tr>\n",
       "      <th>0</th>\n",
       "      <td>17</td>\n",
       "      <td>Addictive disorder</td>\n",
       "      <td>Schizophrenia</td>\n",
       "    </tr>\n",
       "    <tr>\n",
       "      <th>1</th>\n",
       "      <td>28</td>\n",
       "      <td>Healthy control</td>\n",
       "      <td>Addictive disorder</td>\n",
       "    </tr>\n",
       "    <tr>\n",
       "      <th>2</th>\n",
       "      <td>33</td>\n",
       "      <td>Schizophrenia</td>\n",
       "      <td>Anxiety disorder</td>\n",
       "    </tr>\n",
       "    <tr>\n",
       "      <th>3</th>\n",
       "      <td>41</td>\n",
       "      <td>Schizophrenia</td>\n",
       "      <td>Schizophrenia</td>\n",
       "    </tr>\n",
       "    <tr>\n",
       "      <th>4</th>\n",
       "      <td>48</td>\n",
       "      <td>Healthy control</td>\n",
       "      <td>Schizophrenia</td>\n",
       "    </tr>\n",
       "    <tr>\n",
       "      <th>...</th>\n",
       "      <td>...</td>\n",
       "      <td>...</td>\n",
       "      <td>...</td>\n",
       "    </tr>\n",
       "    <tr>\n",
       "      <th>88</th>\n",
       "      <td>885</td>\n",
       "      <td>Mood disorder</td>\n",
       "      <td>Healthy control</td>\n",
       "    </tr>\n",
       "    <tr>\n",
       "      <th>89</th>\n",
       "      <td>896</td>\n",
       "      <td>Healthy control</td>\n",
       "      <td>Obsessive compulsive disorder</td>\n",
       "    </tr>\n",
       "    <tr>\n",
       "      <th>90</th>\n",
       "      <td>917</td>\n",
       "      <td>Addictive disorder</td>\n",
       "      <td>Anxiety disorder</td>\n",
       "    </tr>\n",
       "    <tr>\n",
       "      <th>91</th>\n",
       "      <td>918</td>\n",
       "      <td>Mood disorder</td>\n",
       "      <td>Anxiety disorder</td>\n",
       "    </tr>\n",
       "    <tr>\n",
       "      <th>92</th>\n",
       "      <td>925</td>\n",
       "      <td>Schizophrenia</td>\n",
       "      <td>Mood disorder</td>\n",
       "    </tr>\n",
       "  </tbody>\n",
       "</table>\n",
       "<p>93 rows × 3 columns</p>\n",
       "</div>"
      ],
      "text/plain": [
       "     ID              y_pred                         y_true\n",
       "0    17  Addictive disorder                  Schizophrenia\n",
       "1    28     Healthy control             Addictive disorder\n",
       "2    33       Schizophrenia               Anxiety disorder\n",
       "3    41       Schizophrenia                  Schizophrenia\n",
       "4    48     Healthy control                  Schizophrenia\n",
       "..  ...                 ...                            ...\n",
       "88  885       Mood disorder                Healthy control\n",
       "89  896     Healthy control  Obsessive compulsive disorder\n",
       "90  917  Addictive disorder               Anxiety disorder\n",
       "91  918       Mood disorder               Anxiety disorder\n",
       "92  925       Schizophrenia                  Mood disorder\n",
       "\n",
       "[93 rows x 3 columns]"
      ]
     },
     "execution_count": 9,
     "metadata": {},
     "output_type": "execute_result"
    }
   ],
   "source": [
    "test_df = pd.read_csv(\"data.csv\")\n",
    "X_test = scaler.transform(test_df[feature_column])\n",
    "y_test = label_encoder.fit_transform(test_df[target_column])\n",
    "y_pred = xgb_model.predict(X_test)\n",
    "y_pred = label_encoder.inverse_transform(y_pred)\n",
    "y_test = label_encoder.inverse_transform(y_test)\n",
    "\n",
    "output_df = pd.DataFrame({\"ID\": test_df[\"ID\"], \"y_pred\": y_pred, \"y_true\": y_test})\n",
    "output_df"
   ]
  },
  {
   "cell_type": "code",
   "execution_count": 10,
   "metadata": {},
   "outputs": [
    {
     "name": "stdout",
     "output_type": "stream",
     "text": [
      "Accuracy: 13.98%\n"
     ]
    }
   ],
   "source": [
    "common.get_accuracy(output_df)"
   ]
  }
 ],
 "metadata": {
  "kernelspec": {
   "display_name": "base",
   "language": "python",
   "name": "python3"
  },
  "language_info": {
   "codemirror_mode": {
    "name": "ipython",
    "version": 3
   },
   "file_extension": ".py",
   "mimetype": "text/x-python",
   "name": "python",
   "nbconvert_exporter": "python",
   "pygments_lexer": "ipython3",
   "version": "3.11.0"
  }
 },
 "nbformat": 4,
 "nbformat_minor": 2
}
