{
 "cells": [
  {
   "cell_type": "code",
   "execution_count": 1,
   "metadata": {},
   "outputs": [],
   "source": [
    "import pandas as pd\n",
    "import numpy as np\n",
    "from sklearn.model_selection import train_test_split, GridSearchCV\n",
    "from sklearn.preprocessing import StandardScaler, LabelEncoder\n",
    "from sklearn.decomposition import PCA\n",
    "from sklearn.svm import SVC\n",
    "from sklearn.metrics import classification_report, confusion_matrix"
   ]
  },
  {
   "cell_type": "code",
   "execution_count": 2,
   "metadata": {},
   "outputs": [],
   "source": [
    "relevant_columns = [\n",
    "    \"main.disorder\",  # Target variable\n",
    "\n",
    "    # Schizophrenia (alpha PSD)\n",
    "    \"AB.C.alpha.a.FP1\", \"AB.C.alpha.b.FP2\", \"AB.C.alpha.c.F7\", \"AB.C.alpha.d.F3\",\n",
    "    \"AB.C.alpha.e.Fz\", \"AB.C.alpha.f.F4\", \"AB.C.alpha.g.F8\", \"AB.C.alpha.h.T3\",\n",
    "    \"AB.C.alpha.i.C3\", \"AB.C.alpha.j.Cz\", \"AB.C.alpha.k.C4\", \"AB.C.alpha.l.T4\",\n",
    "    \"AB.C.alpha.m.T5\", \"AB.C.alpha.n.P3\", \"AB.C.alpha.o.Pz\", \"AB.C.alpha.p.P4\",\n",
    "    \"AB.C.alpha.q.T6\", \"AB.C.alpha.r.O1\", \"AB.C.alpha.s.O2\",\n",
    "\n",
    "    # Trauma and stress-related disorders (beta FC)\n",
    "    \"COH.D.beta.a.FP1.b.FP2\", \"COH.D.beta.c.F7.d.F3\", \"COH.D.beta.e.Fz.f.F4\",\n",
    "    \"COH.D.beta.g.F8.h.T3\", \"COH.D.beta.i.C3.j.Cz\", \"COH.D.beta.k.C4.l.T4\",\n",
    "    \"COH.D.beta.m.T5.n.P3\", \"COH.D.beta.o.Pz.p.P4\", \"COH.D.beta.q.T6.r.O1\",\n",
    "\n",
    "    # Anxiety disorders (whole band PSD: all frequency bands)\n",
    "    \"AB.A.delta.a.FP1\", \"AB.A.delta.b.FP2\", \"AB.B.theta.a.FP1\", \"AB.B.theta.b.FP2\",\n",
    "    \"AB.C.alpha.a.FP1\", \"AB.C.alpha.b.FP2\", \"AB.D.beta.a.FP1\", \"AB.D.beta.b.FP2\",\n",
    "    \"AB.E.highbeta.a.FP1\", \"AB.E.highbeta.b.FP2\", \"AB.F.gamma.a.FP1\", \"AB.F.gamma.b.FP2\",\n",
    "\n",
    "    # Mood disorders (theta FC)\n",
    "    \"COH.B.theta.a.FP1.b.FP2\", \"COH.B.theta.c.F7.d.F3\", \"COH.B.theta.e.Fz.f.F4\",\n",
    "    \"COH.B.theta.g.F8.h.T3\", \"COH.B.theta.i.C3.j.Cz\", \"COH.B.theta.k.C4.l.T4\",\n",
    "    \"COH.B.theta.m.T5.n.P3\", \"COH.B.theta.o.Pz.p.P4\", \"COH.B.theta.q.T6.r.O1\",\n",
    "\n",
    "    # Addictive disorders (theta PSD)\n",
    "    \"AB.B.theta.a.FP1\", \"AB.B.theta.b.FP2\", \"AB.B.theta.c.F7\", \"AB.B.theta.d.F3\",\n",
    "    \"AB.B.theta.e.Fz\", \"AB.B.theta.f.F4\", \"AB.B.theta.g.F8\", \"AB.B.theta.h.T3\",\n",
    "    \"AB.B.theta.i.C3\", \"AB.B.theta.j.Cz\", \"AB.B.theta.k.C4\", \"AB.B.theta.l.T4\",\n",
    "    \"AB.B.theta.m.T5\", \"AB.B.theta.n.P3\", \"AB.B.theta.o.Pz\", \"AB.B.theta.p.P4\",\n",
    "    \"AB.B.theta.q.T6\", \"AB.B.theta.r.O1\", \"AB.B.theta.s.O2\",\n",
    "\n",
    "    # Obsessive-compulsive disorder (gamma FC)\n",
    "    \"COH.F.gamma.a.FP1.b.FP2\", \"COH.F.gamma.c.F7.d.F3\", \"COH.F.gamma.e.Fz.f.F4\",\n",
    "    \"COH.F.gamma.g.F8.h.T3\", \"COH.F.gamma.i.C3.j.Cz\", \"COH.F.gamma.k.C4.l.T4\",\n",
    "    \"COH.F.gamma.m.T5.n.P3\", \"COH.F.gamma.o.Pz.p.P4\", \"COH.F.gamma.q.T6.r.O1\"\n",
    "]"
   ]
  },
  {
   "cell_type": "code",
   "execution_count": 3,
   "metadata": {},
   "outputs": [
    {
     "name": "stdout",
     "output_type": "stream",
     "text": [
      "Data successfully processed and saved as 'shuffled_data.csv'.\n"
     ]
    }
   ],
   "source": [
    "# Load raw data and synthetic data\n",
    "raw_data = pd.read_csv(\"data/train.csv\")\n",
    "synthetic_data = pd.read_csv(\"data/synthetic_eeg.csv\")\n",
    "\n",
    "# Ensure all column names are unique (reset index columns)\n",
    "features = [col for col in relevant_columns if col != \"main.disorder\"]  # Exclude 'main.disorder' first\n",
    "raw_data = raw_data[features + [\"main.disorder\"]]  # Reorder columns\n",
    "\n",
    "# Ensure both datasets have the same column order\n",
    "synthetic_data = synthetic_data[raw_data.columns]\n",
    "\n",
    "# Concatenate both datasets\n",
    "combined_data = pd.concat([raw_data, synthetic_data], ignore_index=True)\n",
    "\n",
    "# Shuffle the dataset\n",
    "shuffled_data = combined_data.sample(frac=1, random_state=42).reset_index(drop=True)\n",
    "\n",
    "# Save the shuffled dataset\n",
    "shuffled_data.to_csv(\"data/shuffled_data.csv\", index=False)\n",
    "\n",
    "print(\"Data successfully processed and saved as 'shuffled_data.csv'.\")"
   ]
  }
 ],
 "metadata": {
  "kernelspec": {
   "display_name": "rice",
   "language": "python",
   "name": "python3"
  },
  "language_info": {
   "codemirror_mode": {
    "name": "ipython",
    "version": 3
   },
   "file_extension": ".py",
   "mimetype": "text/x-python",
   "name": "python",
   "nbconvert_exporter": "python",
   "pygments_lexer": "ipython3",
   "version": "3.9.19"
  }
 },
 "nbformat": 4,
 "nbformat_minor": 2
}
