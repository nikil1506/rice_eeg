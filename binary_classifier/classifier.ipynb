{
 "cells": [
  {
   "cell_type": "code",
   "execution_count": 1,
   "metadata": {},
   "outputs": [],
   "source": [
    "import binary_common as common\n",
    "import pandas as pd"
   ]
  },
  {
   "cell_type": "code",
   "execution_count": 2,
   "metadata": {},
   "outputs": [],
   "source": [
    "disorder_labels = [\n",
    "    \"Addictive disorder\",\n",
    "    \"Anxiety disorder\",\n",
    "    \"Mood disorder\",\n",
    "    \"Obsessive compulsive disorder\",\n",
    "    \"Schizophrenia\",\n",
    "    \"Trauma and stress related disorder\",\n",
    "]\n",
    "\n",
    "binary_predictions = {}\n",
    "optimal_thresholds = {}"
   ]
  },
  {
   "cell_type": "code",
   "execution_count": null,
   "metadata": {},
   "outputs": [
    {
     "name": "stdout",
     "output_type": "stream",
     "text": [
      "\n",
      "####### Addictive disorder #######\n",
      "\n",
      "Fitting 10 folds for each of 10 candidates, totalling 100 fits\n"
     ]
    }
   ],
   "source": [
    "for label in disorder_labels:\n",
    "    print(f\"\\n####### {label} #######\\n\")\n",
    "    optimal_thresholds[label] = common.binary_training(label)\n",
    "    binary_predictions[label] = common.binary_predictions(optimal_thresholds[label], label)\n",
    "    print('\\n\\n')"
   ]
  },
  {
   "cell_type": "code",
   "execution_count": null,
   "metadata": {},
   "outputs": [],
   "source": [
    "preds = []\n",
    "for index in range(len(binary_predictions[disorder_labels[0]])):\n",
    "    max_value = float('-inf')\n",
    "    max_label = None\n",
    "    for label in disorder_labels:\n",
    "        diff = binary_predictions[label][index] - optimal_thresholds[label]\n",
    "        if diff > 0 and diff > max_value:\n",
    "            max_value = diff\n",
    "            max_label = label\n",
    "    if max_label is None:\n",
    "        preds.append(common.false_label)\n",
    "    else:\n",
    "        preds.append(max_label)\n",
    "\n",
    "output_df = pd.DataFrame(\n",
    "        {\"y_pred\": preds, \"y_true\": common.read_file(\"data.csv\", common.relevant_columns)[\"main.disorder\"]}\n",
    ")\n",
    "common.get_accuracy(output_df)"
   ]
  },
  {
   "cell_type": "code",
   "execution_count": 5,
   "metadata": {},
   "outputs": [],
   "source": [
    "output_df.to_csv('final_output.csv')"
   ]
  }
 ],
 "metadata": {
  "kernelspec": {
   "display_name": "base",
   "language": "python",
   "name": "python3"
  },
  "language_info": {
   "codemirror_mode": {
    "name": "ipython",
    "version": 3
   },
   "file_extension": ".py",
   "mimetype": "text/x-python",
   "name": "python",
   "nbconvert_exporter": "python",
   "pygments_lexer": "ipython3",
   "version": "3.11.0"
  }
 },
 "nbformat": 4,
 "nbformat_minor": 2
}
