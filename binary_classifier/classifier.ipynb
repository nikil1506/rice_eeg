{
 "cells": [
  {
   "cell_type": "code",
   "execution_count": 1,
   "metadata": {},
   "outputs": [],
   "source": [
    "import binary_common as common\n",
    "import pandas as pd"
   ]
  },
  {
   "cell_type": "code",
   "execution_count": 2,
   "metadata": {},
   "outputs": [],
   "source": [
    "disorder_labels = [\n",
    "    \"Addictive disorder\",\n",
    "    \"Anxiety disorder\",\n",
    "    \"Mood disorder\",\n",
    "    \"Obsessive compulsive disorder\",\n",
    "    \"Schizophrenia\",\n",
    "    \"Trauma and stress related disorder\",\n",
    "]\n",
    "\n",
    "binary_predictions = {}\n",
    "optimal_thresholds = {}"
   ]
  },
  {
   "cell_type": "code",
   "execution_count": null,
   "metadata": {},
   "outputs": [],
   "source": [
    "for label in disorder_labels:\n",
    "    print(f\"\\n####### {label} #######\\n\")\n",
    "    optimal_thresholds[label] = common.binary_training(label)\n",
    "    binary_predictions[label] = common.binary_predictions(optimal_thresholds[label], label)\n",
    "    print('\\n\\n')"
   ]
  },
  {
   "cell_type": "code",
   "execution_count": null,
   "metadata": {},
   "outputs": [],
   "source": [
    "preds = []\n",
    "for index in range(len(binary_predictions[disorder_labels[0]])):\n",
    "    max_value = float('-inf')\n",
    "    max_label = None\n",
    "    for label in disorder_labels:\n",
    "        diff = binary_predictions[label][index] - optimal_thresholds[label]\n",
    "        if diff > 0 and diff > max_value:\n",
    "            max_value = diff\n",
    "            max_label = label\n",
    "    if max_label is None:\n",
    "        preds.append(common.false_label)\n",
    "    else:\n",
    "        preds.append(max_label)\n",
    "\n",
    "output_df = pd.DataFrame(\n",
    "        {\"y_pred\": preds, \"y_true\": pd.read_csv(\"data.csv\")[\"main.disorder\"]}\n",
    ")\n",
    "common.get_accuracy(output_df)"
   ]
  },
  {
   "cell_type": "code",
   "execution_count": 5,
   "metadata": {},
   "outputs": [],
   "source": [
    "output_df.to_csv('final_output.csv')"
   ]
  },
  {
   "cell_type": "code",
   "execution_count": null,
   "metadata": {},
   "outputs": [],
   "source": [
    "optimal_thresholds"
   ]
  },
  {
   "cell_type": "code",
   "execution_count": null,
   "metadata": {},
   "outputs": [],
   "source": [
    "from sklearn.metrics import classification_report, confusion_matrix\n",
    "import joblib\n",
    "\n",
    "weighted_avg_dict = {}\n",
    "for label in disorder_labels:\n",
    "    scaler = joblib.load(f\"{label}_Scaler.pkl\")\n",
    "    pca = joblib.load(f\"{label}_Pca.pkl\")\n",
    "    svm = joblib.load(f\"{label}_Tuned.pkl\")\n",
    "    \n",
    "    y_true = pd.read_csv(\"data.csv\")[\"main.disorder\"]\n",
    "    y_true = (y_true == label).astype(int)\n",
    "\n",
    "    \n",
    "    cols = common.relevant_columns.copy()\n",
    "    new_data = common.read_file(\"data.csv\", cols)\n",
    "    \n",
    "    new_data_scaled = scaler.fit_transform(new_data.values)\n",
    "    new_data_pca = pca.fit_transform(new_data_scaled)\n",
    "    predictions = svm.predict_proba(new_data_pca)[:, 1]\n",
    "    y_pred = (preds >= 0.2).astype(int)\n",
    "    \n",
    "    \n",
    "    print(label)\n",
    "    print('\\n\\n',classification_report(y_true,y_pred))\n",
    "    print('\\n\\n',confusion_matrix(y_true,y_pred))"
   ]
  },
  {
   "cell_type": "code",
   "execution_count": null,
   "metadata": {},
   "outputs": [],
   "source": [
    "weighted_avg_dict"
   ]
  },
  {
   "cell_type": "code",
   "execution_count": null,
   "metadata": {},
   "outputs": [],
   "source": [
    "import joblib\n",
    "import numpy as np\n",
    "\n",
    "def weighted_voting(svm_models, weights, X_test):\n",
    "    \"\"\"\n",
    "    Perform weighted voting for multiclass classification using multiple SVM classifiers.\n",
    "    \n",
    "    :param svm_models: List of trained SVM models\n",
    "    :param weights: List of weights for each model\n",
    "    :param X_test: Feature matrix for test data\n",
    "    :return: Final predicted class labels\n",
    "    \"\"\"\n",
    "    num_samples = X_test.shape[0]\n",
    "    num_classes = len(svm_models)  # Assuming each SVM corresponds to one class\n",
    "    \n",
    "    # Initialize a score matrix\n",
    "    class_scores = np.zeros((num_samples, num_classes))\n",
    "\n",
    "    # Collect weighted scores from each classifier\n",
    "    for i, (svm, weight) in enumerate(zip(svm_models, weights)):\n",
    "        decision_scores = svm.decision_function(X_test)  # Confidence scores\n",
    "        class_scores[:, i] = weight * decision_scores  # Apply weight\n",
    "\n",
    "    # Final prediction: Choose class with highest weighted score\n",
    "    final_predictions = np.argmax(class_scores, axis=1)\n",
    "    \n",
    "    return final_predictions\n",
    "\n",
    "# Example usage (assuming `svm_models` is a list of trained SVM classifiers and `X_test` is your test data)\n",
    "# Define weights based on classifier performance (can be optimized)\n",
    "weights = [0.8974359 , 0.87179487, 0.80769231, 0.93589744, 1, 0.79487179]  # Example weights\n",
    "\n",
    "# Perform classification\n",
    "svm_models = [joblib.load(f\"{label}_Tuned.pkl\") for label in disorder_labels]\n",
    "\n",
    "cols = common.relevant_columns.copy()\n",
    "new_data = common.read_file(\"data.csv\", cols)\n",
    "\n",
    "# Convert DataFrame to NumPy before applying StandardScaler\n",
    "scaler = joblib.load(\"Mood disorder_Scaler.pkl\")\n",
    "pca = joblib.load(\"Mood disorder_Pca.pkl\")\n",
    "y_test = scaler.fit_transform(new_data.values)\n",
    "new_data_pca = pca.fit_transform(y_test)\n",
    "y_pred = weighted_voting(svm_models, weights, new_data_pca)\n",
    "y_pred"
   ]
  },
  {
   "cell_type": "code",
   "execution_count": null,
   "metadata": {},
   "outputs": [],
   "source": [
    "disorder_mapping = {\n",
    "    0: \"Addictive disorder\",\n",
    "    1: \"Anxiety disorder\",\n",
    "    2: \"Mood disorder\",\n",
    "    3: \"Obsessive compulsive disorder\",\n",
    "    4: \"Schizophrenia\",\n",
    "    5: \"Trauma and stress related disorder\"\n",
    "}\n",
    "labelled_predicted = [disorder_mapping[val] for val in y_pred]\n",
    "labelled_predicted\n",
    "\n"
   ]
  },
  {
   "cell_type": "code",
   "execution_count": null,
   "metadata": {},
   "outputs": [],
   "source": [
    "output_df = pd.DataFrame(\n",
    "    {\n",
    "        \"main.disorder.class\": labelled_predicted,\n",
    "        \"ID\": pd.read_csv('data/test.csv')['ID'],\n",
    "    }\n",
    ")\n",
    "output_df.to_csv(\"Test_Set_EEG.csv\", index=False)"
   ]
  },
  {
   "cell_type": "code",
   "execution_count": null,
   "metadata": {},
   "outputs": [],
   "source": [
    "import numpy as np\n",
    "from scipy.interpolate import UnivariateSpline\n",
    "\n",
    "# Given accuracy values for each disorder's classifier\n",
    "disorders = [\n",
    "    \"Addictive disorder\", \"Anxiety disorder\", \"Mood disorder\", \n",
    "    \"Obsessive compulsive disorder\", \"Schizophrenia\", \"Trauma and stress related disorder\"\n",
    "]\n",
    "accuracy_values = np.array([0.70, 0.68, 0.63, 0.73, 0.78, 0.62])\n",
    "\n",
    "# Create evenly spaced x values for interpolation\n",
    "x_values = np.linspace(0, len(accuracy_values) - 1, len(accuracy_values))\n",
    "\n",
    "# Fit a spline function\n",
    "spline = UnivariateSpline(x_values, accuracy_values, s=0)\n",
    "\n",
    "# Generate evenly spaced weights\n",
    "weights = spline(x_values)\n",
    "\n",
    "# Normalize weights to ensure they are in a reasonable range\n",
    "weights = weights / np.max(weights)\n",
    "\n",
    "# Display weights\n",
    "weights\n"
   ]
  }
 ],
 "metadata": {
  "kernelspec": {
   "display_name": "rice",
   "language": "python",
   "name": "python3"
  },
  "language_info": {
   "codemirror_mode": {
    "name": "ipython",
    "version": 3
   },
   "file_extension": ".py",
   "mimetype": "text/x-python",
   "name": "python",
   "nbconvert_exporter": "python",
   "pygments_lexer": "ipython3",
   "version": "3.9.19"
  }
 },
 "nbformat": 4,
 "nbformat_minor": 2
}
