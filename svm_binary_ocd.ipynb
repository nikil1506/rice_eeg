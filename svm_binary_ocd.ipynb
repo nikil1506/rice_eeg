{
 "cells": [
  {
   "cell_type": "code",
   "execution_count": 13,
   "metadata": {},
   "outputs": [],
   "source": [
    "import numpy as np\n",
    "import pandas as pd\n",
    "import joblib\n",
    "from sklearn.model_selection import train_test_split, GridSearchCV\n",
    "from sklearn.preprocessing import StandardScaler, LabelEncoder\n",
    "from sklearn.svm import SVC\n",
    "from sklearn.metrics import accuracy_score, roc_auc_score\n",
    "from imblearn.over_sampling import SMOTE\n",
    "from sklearn.utils.class_weight import compute_class_weight"
   ]
  },
  {
   "cell_type": "code",
   "execution_count": 14,
   "metadata": {},
   "outputs": [],
   "source": [
    "relevant_columns = [\n",
    "    \"main.disorder\",  # Target variable\n",
    "\n",
    "    # Schizophrenia (alpha PSD)\n",
    "    \"AB.C.alpha.a.FP1\", \"AB.C.alpha.b.FP2\", \"AB.C.alpha.c.F7\", \"AB.C.alpha.d.F3\",\n",
    "    \"AB.C.alpha.e.Fz\", \"AB.C.alpha.f.F4\", \"AB.C.alpha.g.F8\", \"AB.C.alpha.h.T3\",\n",
    "    \"AB.C.alpha.i.C3\", \"AB.C.alpha.j.Cz\", \"AB.C.alpha.k.C4\", \"AB.C.alpha.l.T4\",\n",
    "    \"AB.C.alpha.m.T5\", \"AB.C.alpha.n.P3\", \"AB.C.alpha.o.Pz\", \"AB.C.alpha.p.P4\",\n",
    "    \"AB.C.alpha.q.T6\", \"AB.C.alpha.r.O1\", \"AB.C.alpha.s.O2\",\n",
    "\n",
    "    # Trauma and stress-related disorders (beta FC)\n",
    "    \"COH.D.beta.a.FP1.b.FP2\", \"COH.D.beta.c.F7.d.F3\", \"COH.D.beta.e.Fz.f.F4\",\n",
    "    \"COH.D.beta.g.F8.h.T3\", \"COH.D.beta.i.C3.j.Cz\", \"COH.D.beta.k.C4.l.T4\",\n",
    "    \"COH.D.beta.m.T5.n.P3\", \"COH.D.beta.o.Pz.p.P4\", \"COH.D.beta.q.T6.r.O1\",\n",
    "\n",
    "    # Anxiety disorders (whole band PSD: all frequency bands)\n",
    "    \"AB.A.delta.a.FP1\", \"AB.A.delta.b.FP2\", \"AB.B.theta.a.FP1\", \"AB.B.theta.b.FP2\",\n",
    "    \"AB.C.alpha.a.FP1\", \"AB.C.alpha.b.FP2\", \"AB.D.beta.a.FP1\", \"AB.D.beta.b.FP2\",\n",
    "    \"AB.E.highbeta.a.FP1\", \"AB.E.highbeta.b.FP2\", \"AB.F.gamma.a.FP1\", \"AB.F.gamma.b.FP2\",\n",
    "\n",
    "    # Mood disorders (theta FC)\n",
    "    \"COH.B.theta.a.FP1.b.FP2\", \"COH.B.theta.c.F7.d.F3\", \"COH.B.theta.e.Fz.f.F4\",\n",
    "    \"COH.B.theta.g.F8.h.T3\", \"COH.B.theta.i.C3.j.Cz\", \"COH.B.theta.k.C4.l.T4\",\n",
    "    \"COH.B.theta.m.T5.n.P3\", \"COH.B.theta.o.Pz.p.P4\", \"COH.B.theta.q.T6.r.O1\",\n",
    "\n",
    "    # Addictive disorders (theta PSD)\n",
    "    \"AB.B.theta.a.FP1\", \"AB.B.theta.b.FP2\", \"AB.B.theta.c.F7\", \"AB.B.theta.d.F3\",\n",
    "    \"AB.B.theta.e.Fz\", \"AB.B.theta.f.F4\", \"AB.B.theta.g.F8\", \"AB.B.theta.h.T3\",\n",
    "    \"AB.B.theta.i.C3\", \"AB.B.theta.j.Cz\", \"AB.B.theta.k.C4\", \"AB.B.theta.l.T4\",\n",
    "    \"AB.B.theta.m.T5\", \"AB.B.theta.n.P3\", \"AB.B.theta.o.Pz\", \"AB.B.theta.p.P4\",\n",
    "    \"AB.B.theta.q.T6\", \"AB.B.theta.r.O1\", \"AB.B.theta.s.O2\",\n",
    "\n",
    "    # Obsessive-compulsive disorder (gamma FC)\n",
    "    \"COH.F.gamma.a.FP1.b.FP2\", \"COH.F.gamma.c.F7.d.F3\", \"COH.F.gamma.e.Fz.f.F4\",\n",
    "    \"COH.F.gamma.g.F8.h.T3\", \"COH.F.gamma.i.C3.j.Cz\", \"COH.F.gamma.k.C4.l.T4\",\n",
    "    \"COH.F.gamma.m.T5.n.P3\", \"COH.F.gamma.o.Pz.p.P4\", \"COH.F.gamma.q.T6.r.O1\"\n",
    "]\n"
   ]
  },
  {
   "cell_type": "code",
   "execution_count": 15,
   "metadata": {},
   "outputs": [],
   "source": [
    "# Load dataset with only relevant columns\n",
    "data = pd.read_csv(\"data/train.csv\", usecols=relevant_columns)\n",
    "\n",
    "# Filter only Mood Disorder and Healthy Control\n",
    "data = data[data[\"main.disorder\"].isin([\"Healthy control\", \"Obsessive compulsive disorder\"])]\n",
    "\n",
    "# Encode labels manually: Healthy Control -> 0, Mood Disorder -> 1\n",
    "data[\"main.disorder\"] = data[\"main.disorder\"].map({\n",
    "    \"Healthy control\": 0,\n",
    "    \"Obsessive compulsive disorder\": 1\n",
    "})\n",
    "\n",
    "# Features and labels\n",
    "X = data.drop(columns=[\"main.disorder\"]).values\n",
    "y = data[\"main.disorder\"].values.astype(int)  # Ensure integer labels\n",
    "\n",
    "# Standardize features\n",
    "scaler = StandardScaler()\n",
    "X_scaled = scaler.fit_transform(X)\n",
    "\n",
    "# Save the scaler\n",
    "joblib.dump(scaler, \"svm_ocd_scaler.pkl\")\n",
    "\n",
    "# Split into training and testing\n",
    "X_train, X_test, y_train, y_test = train_test_split(X_scaled, y, test_size=0.2, random_state=42)\n"
   ]
  },
  {
   "cell_type": "code",
   "execution_count": 16,
   "metadata": {},
   "outputs": [
    {
     "name": "stdout",
     "output_type": "stream",
     "text": [
      "Fitting 5 folds for each of 10 candidates, totalling 50 fits\n"
     ]
    },
    {
     "data": {
      "text/plain": [
       "['svm_ocd_tuned.pkl']"
      ]
     },
     "execution_count": 16,
     "metadata": {},
     "output_type": "execute_result"
    }
   ],
   "source": [
    "# ---------------- Hyperparameter Tuning (Grid Search) ----------------\n",
    "param_grid = {\n",
    "    \"C\": [0.1, 0.5, 1, 5, 10],  # Regularization parameter\n",
    "    \"kernel\": [\"linear\", \"rbf\"],  # Linear and RBF kernel\n",
    "}\n",
    "\n",
    "svm = SVC(probability=True, class_weight=\"balanced\", random_state=42)\n",
    "\n",
    "grid_search = GridSearchCV(svm, param_grid, cv=5, scoring=\"roc_auc\", n_jobs=-1, verbose=1)\n",
    "grid_search.fit(X_train, y_train)\n",
    "\n",
    "# Get the best model\n",
    "best_svm = grid_search.best_estimator_\n",
    "\n",
    "# Save the trained SVM model\n",
    "joblib.dump(best_svm, \"svm_ocd_tuned.pkl\")"
   ]
  },
  {
   "cell_type": "code",
   "execution_count": 17,
   "metadata": {},
   "outputs": [
    {
     "name": "stdout",
     "output_type": "stream",
     "text": [
      "\n",
      " Tuned SVM Model for Mood Disorder vs. Healthy Control\n",
      " Best Parameters: {'C': 0.5, 'kernel': 'linear'}\n",
      " Accuracy: 0.4400\n",
      " AUC Score: 0.4123\n"
     ]
    }
   ],
   "source": [
    "# ---------------- Evaluate Best Model ----------------\n",
    "y_pred = best_svm.predict(X_test)\n",
    "y_pred_prob = best_svm.predict_proba(X_test)[:, 1]\n",
    "\n",
    "accuracy = accuracy_score(y_test, y_pred)\n",
    "auc = roc_auc_score(y_test, y_pred_prob)\n",
    "\n",
    "print(f\"\\n Tuned SVM Model for Mood Disorder vs. Healthy Control\")\n",
    "print(f\" Best Parameters: {grid_search.best_params_}\")\n",
    "print(f\" Accuracy: {accuracy:.4f}\")\n",
    "print(f\" AUC Score: {auc:.4f}\")"
   ]
  },
  {
   "cell_type": "code",
   "execution_count": 18,
   "metadata": {},
   "outputs": [],
   "source": [
    "def predict_mood_disorder(new_data_path):\n",
    "    \"\"\"\n",
    "    Loads new EEG data, scales it, and predicts Mood Disorder probability.\n",
    "    \"\"\"\n",
    "    # Load new data\n",
    "    new_data = pd.read_csv(new_data_path, usecols=relevant_columns[1:])  # Exclude \"main.disorder\"\n",
    "    \n",
    "    # Load saved scaler and model\n",
    "    scaler = joblib.load(\"svm_ocd_scaler.pkl\")\n",
    "    svm = joblib.load(\"svm_ocd_tuned.pkl\")\n",
    "\n",
    "    # Load new data\n",
    "    new_data = pd.read_csv(new_data_path, usecols=relevant_columns[1:])  # Exclude \"main.disorder\"\n",
    "\n",
    "# Convert DataFrame to NumPy before applying StandardScaler\n",
    "    new_data_scaled = scaler.transform(new_data.values)  # <-- FIXED\n",
    "\n",
    "\n",
    "    # Predict probabilities\n",
    "    predictions = svm.predict_proba(new_data_scaled)[:, 1]  # Probability of Mood Disorder\n",
    "\n",
    "    return predictions"
   ]
  },
  {
   "cell_type": "code",
   "execution_count": 19,
   "metadata": {},
   "outputs": [],
   "source": [
    "preds = predict_mood_disorder(\"data.csv\")\n"
   ]
  },
  {
   "cell_type": "code",
   "execution_count": 20,
   "metadata": {},
   "outputs": [
    {
     "name": "stdout",
     "output_type": "stream",
     "text": [
      "🔹 Optimal Decision Threshold: 0.2901\n"
     ]
    }
   ],
   "source": [
    "from sklearn.metrics import roc_curve\n",
    "\n",
    "# Compute ROC curve\n",
    "fpr, tpr, thresholds = roc_curve(y_test, y_pred_prob)\n",
    "\n",
    "# Find the optimal threshold (Youden’s J statistic: max(TPR - FPR))\n",
    "optimal_idx = np.argmax(tpr - fpr)\n",
    "optimal_threshold = thresholds[optimal_idx]\n",
    "\n",
    "print(f\"🔹 Optimal Decision Threshold: {optimal_threshold:.4f}\")\n",
    "\n",
    "# Convert probabilities to labels using the optimal threshold\n",
    "pred_labels = (y_pred_prob >= optimal_threshold).astype(int)\n"
   ]
  },
  {
   "cell_type": "code",
   "execution_count": 21,
   "metadata": {},
   "outputs": [
    {
     "name": "stdout",
     "output_type": "stream",
     "text": [
      "[0.34915523 0.29386753 0.31366611 0.33739844 0.29391479 0.32910641\n",
      " 0.31430375 0.31759785 0.30809422 0.32316028 0.34848222 0.31583583\n",
      " 0.31896696 0.35696479 0.28684658 0.34675416 0.3179949  0.34435402\n",
      " 0.33117706 0.30520986 0.32206545 0.29891281 0.3370303  0.28419234\n",
      " 0.33373973 0.34211548 0.31188116 0.3192694  0.30545728 0.31687178\n",
      " 0.30995607 0.31195469 0.31188651 0.33572871 0.39368266 0.31281155\n",
      " 0.33214286 0.35232142 0.30052299 0.28185021 0.3407167  0.33331952\n",
      " 0.31584724 0.27343537 0.34662673 0.31000143 0.28368041 0.30472816\n",
      " 0.29220048 0.31636769 0.31528516 0.29591123 0.29186943 0.34243257\n",
      " 0.30555373 0.30901137 0.40742475 0.32312757 0.30985525 0.29750107\n",
      " 0.30396554 0.31690787 0.32200747 0.36043633 0.33305634 0.31219759\n",
      " 0.34890325 0.29731857 0.31807179 0.31878576 0.3433311  0.32162411\n",
      " 0.3274928  0.36410841 0.30538031 0.31487372 0.32291618 0.293354\n",
      " 0.35406717 0.29046998 0.31786004 0.35320929 0.28764534 0.33122661\n",
      " 0.29419075 0.32256864 0.3363495  0.30404823 0.31140398 0.34325106\n",
      " 0.31356327 0.34301132 0.29768127]\n"
     ]
    }
   ],
   "source": [
    "print(preds)"
   ]
  },
  {
   "cell_type": "code",
   "execution_count": 22,
   "metadata": {},
   "outputs": [
    {
     "name": "stdout",
     "output_type": "stream",
     "text": [
      "\n",
      "Predicted Labels:\n",
      " ['Obsessive compulsive disorder', 'Obsessive compulsive disorder', 'Obsessive compulsive disorder', 'Obsessive compulsive disorder', 'Obsessive compulsive disorder', 'Obsessive compulsive disorder', 'Obsessive compulsive disorder', 'Obsessive compulsive disorder', 'Obsessive compulsive disorder', 'Obsessive compulsive disorder', 'Obsessive compulsive disorder', 'Obsessive compulsive disorder', 'Obsessive compulsive disorder', 'Obsessive compulsive disorder', 'Healthy control', 'Obsessive compulsive disorder', 'Obsessive compulsive disorder', 'Obsessive compulsive disorder', 'Obsessive compulsive disorder', 'Obsessive compulsive disorder', 'Obsessive compulsive disorder', 'Obsessive compulsive disorder', 'Obsessive compulsive disorder', 'Healthy control', 'Obsessive compulsive disorder', 'Obsessive compulsive disorder', 'Obsessive compulsive disorder', 'Obsessive compulsive disorder', 'Obsessive compulsive disorder', 'Obsessive compulsive disorder', 'Obsessive compulsive disorder', 'Obsessive compulsive disorder', 'Obsessive compulsive disorder', 'Obsessive compulsive disorder', 'Obsessive compulsive disorder', 'Obsessive compulsive disorder', 'Obsessive compulsive disorder', 'Obsessive compulsive disorder', 'Obsessive compulsive disorder', 'Healthy control', 'Obsessive compulsive disorder', 'Obsessive compulsive disorder', 'Obsessive compulsive disorder', 'Healthy control', 'Obsessive compulsive disorder', 'Obsessive compulsive disorder', 'Healthy control', 'Obsessive compulsive disorder', 'Obsessive compulsive disorder', 'Obsessive compulsive disorder', 'Obsessive compulsive disorder', 'Obsessive compulsive disorder', 'Obsessive compulsive disorder', 'Obsessive compulsive disorder', 'Obsessive compulsive disorder', 'Obsessive compulsive disorder', 'Obsessive compulsive disorder', 'Obsessive compulsive disorder', 'Obsessive compulsive disorder', 'Obsessive compulsive disorder', 'Obsessive compulsive disorder', 'Obsessive compulsive disorder', 'Obsessive compulsive disorder', 'Obsessive compulsive disorder', 'Obsessive compulsive disorder', 'Obsessive compulsive disorder', 'Obsessive compulsive disorder', 'Obsessive compulsive disorder', 'Obsessive compulsive disorder', 'Obsessive compulsive disorder', 'Obsessive compulsive disorder', 'Obsessive compulsive disorder', 'Obsessive compulsive disorder', 'Obsessive compulsive disorder', 'Obsessive compulsive disorder', 'Obsessive compulsive disorder', 'Obsessive compulsive disorder', 'Obsessive compulsive disorder', 'Obsessive compulsive disorder', 'Obsessive compulsive disorder', 'Obsessive compulsive disorder', 'Obsessive compulsive disorder', 'Healthy control', 'Obsessive compulsive disorder', 'Obsessive compulsive disorder', 'Obsessive compulsive disorder', 'Obsessive compulsive disorder', 'Obsessive compulsive disorder', 'Obsessive compulsive disorder', 'Obsessive compulsive disorder', 'Obsessive compulsive disorder', 'Obsessive compulsive disorder', 'Obsessive compulsive disorder']\n"
     ]
    }
   ],
   "source": [
    "def decode_predictions(preds):\n",
    "    \"\"\"\n",
    "    Convert predictions (0,1) back to disorder labels.\n",
    "    \"\"\"\n",
    "    label_map = {0: \"Healthy control\", 1: \"Obsessive compulsive disorder\"}\n",
    "    return [label_map[pred] for pred in preds]\n",
    "\n",
    "# Example usage\n",
    "pred_labels = (preds >= 0.2901).astype(int)  # Convert probabilities to binary labels\n",
    "decoded_labels = decode_predictions(pred_labels)\n",
    "\n",
    "print(\"\\nPredicted Labels:\\n\", decoded_labels)"
   ]
  },
  {
   "cell_type": "code",
   "execution_count": 23,
   "metadata": {},
   "outputs": [
    {
     "name": "stdout",
     "output_type": "stream",
     "text": [
      " Predictions saved to 'predicted_labels.csv'\n"
     ]
    }
   ],
   "source": [
    "import pandas as pd\n",
    "\n",
    "# Convert predictions into a DataFrame\n",
    "output_df = pd.DataFrame({\"Predicted Label\": decoded_labels})\n",
    "\n",
    "# Save to CSV\n",
    "output_df.to_csv(\"predicted_ocd_labels.csv\", index=False)\n",
    "\n",
    "print(\" Predictions saved to 'predicted_labels.csv'\")\n"
   ]
  }
 ],
 "metadata": {
  "kernelspec": {
   "display_name": "rice",
   "language": "python",
   "name": "python3"
  },
  "language_info": {
   "codemirror_mode": {
    "name": "ipython",
    "version": 3
   },
   "file_extension": ".py",
   "mimetype": "text/x-python",
   "name": "python",
   "nbconvert_exporter": "python",
   "pygments_lexer": "ipython3",
   "version": "3.9.19"
  }
 },
 "nbformat": 4,
 "nbformat_minor": 2
}
