{
 "cells": [
  {
   "cell_type": "code",
   "execution_count": 1,
   "metadata": {},
   "outputs": [],
   "source": [
    "import numpy as np\n",
    "import pandas as pd"
   ]
  },
  {
   "cell_type": "code",
   "execution_count": 2,
   "metadata": {},
   "outputs": [],
   "source": [
    "df = pd.read_csv(\"data/train.csv\").dropna(axis=1, how='all')"
   ]
  },
  {
   "cell_type": "code",
   "execution_count": 3,
   "metadata": {},
   "outputs": [],
   "source": [
    "ab_columns = df.filter(like='AB.', axis=1)\n",
    "ab_columns_names = ab_columns.columns.tolist()\n",
    "ab_np_array = ab_columns.to_numpy()\n",
    "np.save('ab_columns.npy', ab_np_array)"
   ]
  },
  {
   "cell_type": "code",
   "execution_count": 4,
   "metadata": {},
   "outputs": [],
   "source": [
    "coh_columns = df.filter(like='COH.', axis=1)\n",
    "coh_columns_names = coh_columns.columns.tolist()\n",
    "coh_np_array = coh_columns.to_numpy()\n",
    "np.save('coh_columns.npy', coh_np_array)"
   ]
  },
  {
   "cell_type": "code",
   "execution_count": 5,
   "metadata": {},
   "outputs": [],
   "source": [
    "other_columns = df.drop(columns=ab_columns_names + coh_columns_names)\n",
    "other_columns_name = df.drop(columns=ab_columns_names + coh_columns_names).columns.tolist()\n",
    "other_columns_array = other_columns.to_numpy()\n",
    "np.save('other_columns.npy', other_columns_array)"
   ]
  }
 ],
 "metadata": {
  "kernelspec": {
   "display_name": "rice2",
   "language": "python",
   "name": "python3"
  },
  "language_info": {
   "codemirror_mode": {
    "name": "ipython",
    "version": 3
   },
   "file_extension": ".py",
   "mimetype": "text/x-python",
   "name": "python",
   "nbconvert_exporter": "python",
   "pygments_lexer": "ipython3",
   "version": "3.8.19"
  }
 },
 "nbformat": 4,
 "nbformat_minor": 2
}
