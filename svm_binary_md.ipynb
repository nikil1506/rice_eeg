{
 "cells": [
  {
   "cell_type": "code",
   "execution_count": 1,
   "metadata": {},
   "outputs": [],
   "source": [
    "import numpy as np\n",
    "import pandas as pd\n",
    "import joblib\n",
    "from sklearn.model_selection import train_test_split, GridSearchCV\n",
    "from sklearn.preprocessing import StandardScaler, LabelEncoder\n",
    "from sklearn.svm import SVC\n",
    "from sklearn.metrics import accuracy_score, roc_auc_score\n",
    "from imblearn.over_sampling import SMOTE\n",
    "from sklearn.utils.class_weight import compute_class_weight"
   ]
  },
  {
   "cell_type": "code",
   "execution_count": 2,
   "metadata": {},
   "outputs": [],
   "source": [
    "relevant_columns = [\n",
    "    \"main.disorder\",  # Target variable\n",
    "\n",
    "    # Schizophrenia (alpha PSD)\n",
    "    \"AB.C.alpha.a.FP1\", \"AB.C.alpha.b.FP2\", \"AB.C.alpha.c.F7\", \"AB.C.alpha.d.F3\",\n",
    "    \"AB.C.alpha.e.Fz\", \"AB.C.alpha.f.F4\", \"AB.C.alpha.g.F8\", \"AB.C.alpha.h.T3\",\n",
    "    \"AB.C.alpha.i.C3\", \"AB.C.alpha.j.Cz\", \"AB.C.alpha.k.C4\", \"AB.C.alpha.l.T4\",\n",
    "    \"AB.C.alpha.m.T5\", \"AB.C.alpha.n.P3\", \"AB.C.alpha.o.Pz\", \"AB.C.alpha.p.P4\",\n",
    "    \"AB.C.alpha.q.T6\", \"AB.C.alpha.r.O1\", \"AB.C.alpha.s.O2\",\n",
    "\n",
    "    # Trauma and stress-related disorders (beta FC)\n",
    "    \"COH.D.beta.a.FP1.b.FP2\", \"COH.D.beta.c.F7.d.F3\", \"COH.D.beta.e.Fz.f.F4\",\n",
    "    \"COH.D.beta.g.F8.h.T3\", \"COH.D.beta.i.C3.j.Cz\", \"COH.D.beta.k.C4.l.T4\",\n",
    "    \"COH.D.beta.m.T5.n.P3\", \"COH.D.beta.o.Pz.p.P4\", \"COH.D.beta.q.T6.r.O1\",\n",
    "\n",
    "    # Anxiety disorders (whole band PSD: all frequency bands)\n",
    "    \"AB.A.delta.a.FP1\", \"AB.A.delta.b.FP2\", \"AB.B.theta.a.FP1\", \"AB.B.theta.b.FP2\",\n",
    "    \"AB.C.alpha.a.FP1\", \"AB.C.alpha.b.FP2\", \"AB.D.beta.a.FP1\", \"AB.D.beta.b.FP2\",\n",
    "    \"AB.E.highbeta.a.FP1\", \"AB.E.highbeta.b.FP2\", \"AB.F.gamma.a.FP1\", \"AB.F.gamma.b.FP2\",\n",
    "\n",
    "    # Mood disorders (theta FC)\n",
    "    \"COH.B.theta.a.FP1.b.FP2\", \"COH.B.theta.c.F7.d.F3\", \"COH.B.theta.e.Fz.f.F4\",\n",
    "    \"COH.B.theta.g.F8.h.T3\", \"COH.B.theta.i.C3.j.Cz\", \"COH.B.theta.k.C4.l.T4\",\n",
    "    \"COH.B.theta.m.T5.n.P3\", \"COH.B.theta.o.Pz.p.P4\", \"COH.B.theta.q.T6.r.O1\",\n",
    "\n",
    "    # Addictive disorders (theta PSD)\n",
    "    \"AB.B.theta.a.FP1\", \"AB.B.theta.b.FP2\", \"AB.B.theta.c.F7\", \"AB.B.theta.d.F3\",\n",
    "    \"AB.B.theta.e.Fz\", \"AB.B.theta.f.F4\", \"AB.B.theta.g.F8\", \"AB.B.theta.h.T3\",\n",
    "    \"AB.B.theta.i.C3\", \"AB.B.theta.j.Cz\", \"AB.B.theta.k.C4\", \"AB.B.theta.l.T4\",\n",
    "    \"AB.B.theta.m.T5\", \"AB.B.theta.n.P3\", \"AB.B.theta.o.Pz\", \"AB.B.theta.p.P4\",\n",
    "    \"AB.B.theta.q.T6\", \"AB.B.theta.r.O1\", \"AB.B.theta.s.O2\",\n",
    "\n",
    "    # Obsessive-compulsive disorder (gamma FC)\n",
    "    \"COH.F.gamma.a.FP1.b.FP2\", \"COH.F.gamma.c.F7.d.F3\", \"COH.F.gamma.e.Fz.f.F4\",\n",
    "    \"COH.F.gamma.g.F8.h.T3\", \"COH.F.gamma.i.C3.j.Cz\", \"COH.F.gamma.k.C4.l.T4\",\n",
    "    \"COH.F.gamma.m.T5.n.P3\", \"COH.F.gamma.o.Pz.p.P4\", \"COH.F.gamma.q.T6.r.O1\"\n",
    "]\n"
   ]
  },
  {
   "cell_type": "code",
   "execution_count": 3,
   "metadata": {},
   "outputs": [],
   "source": [
    "# Load dataset with only relevant columns\n",
    "data = pd.read_csv(\"data/train.csv\", usecols=relevant_columns)\n",
    "\n",
    "# Filter only Mood Disorder and Healthy Control\n",
    "data = data[data[\"main.disorder\"].isin([\"Healthy control\", \"Mood disorder\"])]\n",
    "\n",
    "# Encode labels manually: Healthy Control -> 0, Mood Disorder -> 1\n",
    "data[\"main.disorder\"] = data[\"main.disorder\"].map({\n",
    "    \"Healthy control\": 0,\n",
    "    \"Mood disorder\": 1\n",
    "})\n",
    "\n",
    "# Features and labels\n",
    "X = data.drop(columns=[\"main.disorder\"]).values\n",
    "y = data[\"main.disorder\"].values.astype(int)  # Ensure integer labels\n",
    "\n",
    "# Standardize features\n",
    "scaler = StandardScaler()\n",
    "X_scaled = scaler.fit_transform(X)\n",
    "\n",
    "# Save the scaler\n",
    "joblib.dump(scaler, \"svm_mood_scaler.pkl\")\n",
    "\n",
    "# Split into training and testing\n",
    "X_train, X_test, y_train, y_test = train_test_split(X_scaled, y, test_size=0.2, random_state=42)\n"
   ]
  },
  {
   "cell_type": "code",
   "execution_count": 4,
   "metadata": {},
   "outputs": [
    {
     "name": "stdout",
     "output_type": "stream",
     "text": [
      "Fitting 5 folds for each of 10 candidates, totalling 50 fits\n"
     ]
    },
    {
     "data": {
      "text/plain": [
       "['svm_mood_disorder_tuned.pkl']"
      ]
     },
     "execution_count": 4,
     "metadata": {},
     "output_type": "execute_result"
    }
   ],
   "source": [
    "# ---------------- Hyperparameter Tuning (Grid Search) ----------------\n",
    "param_grid = {\n",
    "    \"C\": [0.1, 0.5, 1, 5, 10],  # Regularization parameter\n",
    "    \"kernel\": [\"linear\", \"rbf\"],  # Linear and RBF kernel\n",
    "}\n",
    "\n",
    "svm = SVC(probability=True, class_weight=\"balanced\", random_state=42)\n",
    "\n",
    "grid_search = GridSearchCV(svm, param_grid, cv=5, scoring=\"roc_auc\", n_jobs=-1, verbose=1)\n",
    "grid_search.fit(X_train, y_train)\n",
    "\n",
    "# Get the best model\n",
    "best_svm = grid_search.best_estimator_\n",
    "\n",
    "# Save the trained SVM model\n",
    "joblib.dump(best_svm, \"svm_mood_disorder_tuned.pkl\")"
   ]
  },
  {
   "cell_type": "code",
   "execution_count": 5,
   "metadata": {},
   "outputs": [
    {
     "name": "stdout",
     "output_type": "stream",
     "text": [
      "\n",
      " Tuned SVM Model for Mood Disorder vs. Healthy Control\n",
      " Best Parameters: {'C': 5, 'kernel': 'rbf'}\n",
      " Accuracy: 0.6324\n",
      " AUC Score: 0.6190\n"
     ]
    }
   ],
   "source": [
    "# ---------------- Evaluate Best Model ----------------\n",
    "y_pred = best_svm.predict(X_test)\n",
    "y_pred_prob = best_svm.predict_proba(X_test)[:, 1]\n",
    "\n",
    "accuracy = accuracy_score(y_test, y_pred)\n",
    "auc = roc_auc_score(y_test, y_pred_prob)\n",
    "\n",
    "print(f\"\\n Tuned SVM Model for Mood Disorder vs. Healthy Control\")\n",
    "print(f\" Best Parameters: {grid_search.best_params_}\")\n",
    "print(f\" Accuracy: {accuracy:.4f}\")\n",
    "print(f\" AUC Score: {auc:.4f}\")"
   ]
  },
  {
   "cell_type": "code",
   "execution_count": 6,
   "metadata": {},
   "outputs": [],
   "source": [
    "def predict_mood_disorder(new_data_path):\n",
    "    \"\"\"\n",
    "    Loads new EEG data, scales it, and predicts Mood Disorder probability.\n",
    "    \"\"\"\n",
    "    # Load new data\n",
    "    new_data = pd.read_csv(new_data_path, usecols=relevant_columns[1:])  # Exclude \"main.disorder\"\n",
    "    \n",
    "    # Load saved scaler and model\n",
    "    scaler = joblib.load(\"svm_mood_scaler.pkl\")\n",
    "    svm = joblib.load(\"svm_mood_disorder_tuned.pkl\")\n",
    "\n",
    "    # Load new data\n",
    "    new_data = pd.read_csv(new_data_path, usecols=relevant_columns[1:])  # Exclude \"main.disorder\"\n",
    "\n",
    "# Convert DataFrame to NumPy before applying StandardScaler\n",
    "    new_data_scaled = scaler.transform(new_data.values)  # <-- FIXED\n",
    "\n",
    "\n",
    "    # Predict probabilities\n",
    "    predictions = svm.predict_proba(new_data_scaled)[:, 1]  # Probability of Mood Disorder\n",
    "\n",
    "    return predictions"
   ]
  },
  {
   "cell_type": "code",
   "execution_count": 7,
   "metadata": {},
   "outputs": [],
   "source": [
    "preds = predict_mood_disorder(\"data.csv\")\n"
   ]
  },
  {
   "cell_type": "code",
   "execution_count": 8,
   "metadata": {},
   "outputs": [
    {
     "name": "stdout",
     "output_type": "stream",
     "text": [
      "🔹 Optimal Decision Threshold: 0.7400\n"
     ]
    }
   ],
   "source": [
    "from sklearn.metrics import roc_curve\n",
    "\n",
    "# Compute ROC curve\n",
    "fpr, tpr, thresholds = roc_curve(y_test, y_pred_prob)\n",
    "\n",
    "# Find the optimal threshold (Youden’s J statistic: max(TPR - FPR))\n",
    "optimal_idx = np.argmax(tpr - fpr)\n",
    "optimal_threshold = thresholds[optimal_idx]\n",
    "\n",
    "print(f\"🔹 Optimal Decision Threshold: {optimal_threshold:.4f}\")\n",
    "\n",
    "# Convert probabilities to labels using the optimal threshold\n",
    "pred_labels = (y_pred_prob >= optimal_threshold).astype(int)\n"
   ]
  },
  {
   "cell_type": "code",
   "execution_count": 9,
   "metadata": {},
   "outputs": [
    {
     "name": "stdout",
     "output_type": "stream",
     "text": [
      "[0.80284479 0.71326441 0.80601528 0.72000826 0.62107228 0.65523013\n",
      " 0.68912596 0.7188927  0.81573845 0.57650467 0.78639811 0.7830009\n",
      " 0.52469755 0.74461155 0.65940643 0.83890919 0.72688012 0.72961519\n",
      " 0.72143543 0.8370777  0.73296879 0.77077455 0.75014044 0.82070822\n",
      " 0.8565958  0.57917032 0.64450552 0.80605042 0.72240639 0.69297869\n",
      " 0.5398011  0.873065   0.67479468 0.85300638 0.7125315  0.73745027\n",
      " 0.83342636 0.67288709 0.78033434 0.68679918 0.69852461 0.66770325\n",
      " 0.60505112 0.80208643 0.81836087 0.73299376 0.72688461 0.77612505\n",
      " 0.62999582 0.69297666 0.73081949 0.7593808  0.660928   0.78844193\n",
      " 0.60690609 0.62724485 0.85915603 0.73187531 0.61616016 0.68980373\n",
      " 0.70473059 0.5770585  0.65627269 0.69012829 0.75953479 0.79585003\n",
      " 0.62269323 0.75302305 0.64654744 0.61686774 0.75325727 0.81674016\n",
      " 0.60733192 0.87339636 0.62768524 0.74141004 0.79484153 0.77264536\n",
      " 0.70173254 0.79404162 0.66918506 0.80350843 0.68482846 0.80137758\n",
      " 0.45574204 0.73694254 0.70647883 0.77762778 0.62984611 0.71469492\n",
      " 0.78241541 0.81995009 0.82372536]\n"
     ]
    }
   ],
   "source": [
    "print(preds)"
   ]
  },
  {
   "cell_type": "code",
   "execution_count": 10,
   "metadata": {},
   "outputs": [
    {
     "name": "stdout",
     "output_type": "stream",
     "text": [
      "\n",
      "Predicted Labels:\n",
      " ['Mood disorder', 'Healthy control', 'Mood disorder', 'Healthy control', 'Healthy control', 'Healthy control', 'Healthy control', 'Healthy control', 'Mood disorder', 'Healthy control', 'Mood disorder', 'Mood disorder', 'Healthy control', 'Mood disorder', 'Healthy control', 'Mood disorder', 'Healthy control', 'Healthy control', 'Healthy control', 'Mood disorder', 'Healthy control', 'Mood disorder', 'Mood disorder', 'Mood disorder', 'Mood disorder', 'Healthy control', 'Healthy control', 'Mood disorder', 'Healthy control', 'Healthy control', 'Healthy control', 'Mood disorder', 'Healthy control', 'Mood disorder', 'Healthy control', 'Healthy control', 'Mood disorder', 'Healthy control', 'Mood disorder', 'Healthy control', 'Healthy control', 'Healthy control', 'Healthy control', 'Mood disorder', 'Mood disorder', 'Healthy control', 'Healthy control', 'Mood disorder', 'Healthy control', 'Healthy control', 'Healthy control', 'Mood disorder', 'Healthy control', 'Mood disorder', 'Healthy control', 'Healthy control', 'Mood disorder', 'Healthy control', 'Healthy control', 'Healthy control', 'Healthy control', 'Healthy control', 'Healthy control', 'Healthy control', 'Mood disorder', 'Mood disorder', 'Healthy control', 'Mood disorder', 'Healthy control', 'Healthy control', 'Mood disorder', 'Mood disorder', 'Healthy control', 'Mood disorder', 'Healthy control', 'Mood disorder', 'Mood disorder', 'Mood disorder', 'Healthy control', 'Mood disorder', 'Healthy control', 'Mood disorder', 'Healthy control', 'Mood disorder', 'Healthy control', 'Healthy control', 'Healthy control', 'Mood disorder', 'Healthy control', 'Healthy control', 'Mood disorder', 'Mood disorder', 'Mood disorder']\n"
     ]
    }
   ],
   "source": [
    "def decode_predictions(preds):\n",
    "    \"\"\"\n",
    "    Convert predictions (0,1) back to disorder labels.\n",
    "    \"\"\"\n",
    "    label_map = {0: \"Healthy control\", 1: \"Mood disorder\"}\n",
    "    return [label_map[pred] for pred in preds]\n",
    "\n",
    "# Example usage\n",
    "pred_labels = (preds >= 0.7400).astype(int)  # Convert probabilities to binary labels\n",
    "decoded_labels = decode_predictions(pred_labels)\n",
    "\n",
    "print(\"\\nPredicted Labels:\\n\", decoded_labels)"
   ]
  }
 ],
 "metadata": {
  "kernelspec": {
   "display_name": "rice",
   "language": "python",
   "name": "python3"
  },
  "language_info": {
   "codemirror_mode": {
    "name": "ipython",
    "version": 3
   },
   "file_extension": ".py",
   "mimetype": "text/x-python",
   "name": "python",
   "nbconvert_exporter": "python",
   "pygments_lexer": "ipython3",
   "version": "3.9.19"
  }
 },
 "nbformat": 4,
 "nbformat_minor": 2
}
