{
 "cells": [
  {
   "cell_type": "code",
   "execution_count": 16,
   "metadata": {},
   "outputs": [],
   "source": [
    "import torch\n",
    "import torch.nn as nn\n",
    "import torch.optim as optim\n",
    "from sklearn.model_selection import train_test_split\n",
    "from sklearn.preprocessing import LabelEncoder, StandardScaler\n",
    "from torch.utils.data import DataLoader, TensorDataset\n",
    "import common as common\n",
    "import pandas as pd"
   ]
  },
  {
   "cell_type": "code",
   "execution_count": 17,
   "metadata": {},
   "outputs": [],
   "source": [
    "class DeepLSTMModel(nn.Module):\n",
    "    def __init__(self, input_size, hidden_size, num_layers, num_classes):\n",
    "        super(DeepLSTMModel, self).__init__()\n",
    "        self.lstm = nn.LSTM(input_size, hidden_size, num_layers=num_layers, batch_first=True, bidirectional=True, dropout=0.5)\n",
    "        self.fc = nn.Linear(hidden_size * 2, num_classes)\n",
    "    \n",
    "    def forward(self, x):\n",
    "        x, _ = self.lstm(x)\n",
    "        x = x[:, -1, :]\n",
    "        out = self.fc(x)\n",
    "        return out\n"
   ]
  },
  {
   "cell_type": "code",
   "execution_count": 18,
   "metadata": {},
   "outputs": [
    {
     "name": "stdout",
     "output_type": "stream",
     "text": [
      "3    0.142857\n",
      "2    0.142857\n",
      "5    0.142857\n",
      "4    0.142857\n",
      "0    0.142857\n",
      "1    0.142857\n",
      "6    0.142857\n",
      "Name: proportion, dtype: float64\n"
     ]
    }
   ],
   "source": [
    "train_df = common.get_train_df()\n",
    "train_df = common.over_sample_df(train_df)\n",
    "target_column, feature_column = common.get_column_names(train_df)\n",
    "\n",
    "label_encoder = LabelEncoder()\n",
    "y = label_encoder.fit_transform(train_df[target_column])\n",
    "\n",
    "scaler = StandardScaler()\n",
    "X = scaler.fit_transform(train_df[feature_column])\n",
    "\n",
    "X = torch.tensor(X, dtype=torch.float32).unsqueeze(1)\n",
    "y = torch.tensor(y, dtype=torch.long)\n",
    "\n",
    "common.print_class_distribution(y)"
   ]
  },
  {
   "cell_type": "code",
   "execution_count": 19,
   "metadata": {},
   "outputs": [
    {
     "name": "stderr",
     "output_type": "stream",
     "text": [
      "/opt/anaconda3/lib/python3.11/site-packages/torch/optim/lr_scheduler.py:62: UserWarning: The verbose parameter is deprecated. Please use get_last_lr() to access the learning rate.\n",
      "  warnings.warn(\n"
     ]
    },
    {
     "name": "stdout",
     "output_type": "stream",
     "text": [
      "Epoch [1/50], Validation Accuracy: 15.14% 1.9418785572052002\n",
      "Epoch [2/50], Validation Accuracy: 16.29% 1.9342423677444458\n",
      "Epoch [3/50], Validation Accuracy: 16.57% 1.9231781959533691\n",
      "Epoch [4/50], Validation Accuracy: 19.14% 1.8937811851501465\n",
      "Epoch [5/50], Validation Accuracy: 21.71% 1.876651406288147\n",
      "Epoch [6/50], Validation Accuracy: 24.86% 1.824602484703064\n",
      "Epoch [7/50], Validation Accuracy: 28.29% 1.684921383857727\n",
      "Epoch [8/50], Validation Accuracy: 29.43% 1.5216585397720337\n",
      "Epoch [9/50], Validation Accuracy: 36.86% 1.5215129852294922\n",
      "Epoch [10/50], Validation Accuracy: 40.00% 1.4107234477996826\n",
      "Epoch [11/50], Validation Accuracy: 44.57% 1.363008737564087\n",
      "Epoch [12/50], Validation Accuracy: 46.57% 1.1611924171447754\n",
      "Epoch [13/50], Validation Accuracy: 52.29% 1.1093069314956665\n",
      "Epoch [14/50], Validation Accuracy: 55.71% 0.8943093419075012\n",
      "Epoch [15/50], Validation Accuracy: 59.14% 0.8272336721420288\n",
      "Epoch [16/50], Validation Accuracy: 61.43% 0.7049026489257812\n",
      "Epoch [17/50], Validation Accuracy: 65.71% 0.643420398235321\n",
      "Epoch [18/50], Validation Accuracy: 68.29% 0.5457960963249207\n",
      "Epoch [19/50], Validation Accuracy: 67.71% 0.3481185734272003\n",
      "Epoch [20/50], Validation Accuracy: 69.71% 0.47392332553863525\n",
      "Epoch [21/50], Validation Accuracy: 71.43% 0.2899896204471588\n",
      "Epoch [22/50], Validation Accuracy: 71.71% 0.32096579670906067\n",
      "Epoch [23/50], Validation Accuracy: 73.14% 0.26823151111602783\n",
      "Epoch [24/50], Validation Accuracy: 71.71% 0.17785897850990295\n",
      "Epoch [25/50], Validation Accuracy: 73.43% 0.15605054795742035\n",
      "Epoch [26/50], Validation Accuracy: 72.86% 0.187788188457489\n",
      "Epoch [27/50], Validation Accuracy: 74.00% 0.12482861429452896\n",
      "Epoch [28/50], Validation Accuracy: 76.00% 0.09397538006305695\n",
      "Epoch [29/50], Validation Accuracy: 74.86% 0.13193818926811218\n",
      "Epoch [30/50], Validation Accuracy: 76.29% 0.09438689798116684\n",
      "Epoch [31/50], Validation Accuracy: 75.43% 0.057969603687524796\n",
      "Epoch [32/50], Validation Accuracy: 75.71% 0.18025587499141693\n",
      "Epoch [33/50], Validation Accuracy: 75.43% 0.06731195002794266\n",
      "Epoch [34/50], Validation Accuracy: 76.86% 0.050109099596738815\n",
      "Epoch [35/50], Validation Accuracy: 76.00% 0.06009721755981445\n",
      "Epoch [36/50], Validation Accuracy: 76.29% 0.04561852663755417\n",
      "Epoch [37/50], Validation Accuracy: 76.57% 0.04904932156205177\n",
      "Epoch [38/50], Validation Accuracy: 76.29% 0.10917899757623672\n",
      "Epoch [39/50], Validation Accuracy: 76.86% 0.04308803007006645\n",
      "Epoch [40/50], Validation Accuracy: 77.14% 0.05913998559117317\n",
      "Epoch [41/50], Validation Accuracy: 76.29% 0.04644600301980972\n",
      "Epoch [42/50], Validation Accuracy: 76.29% 0.040839191526174545\n",
      "Epoch [43/50], Validation Accuracy: 77.14% 0.024409089237451553\n",
      "Epoch [44/50], Validation Accuracy: 76.29% 0.018075743690133095\n",
      "Epoch [45/50], Validation Accuracy: 77.43% 0.017249416559934616\n",
      "Epoch [46/50], Validation Accuracy: 77.14% 0.02089465968310833\n",
      "Epoch [47/50], Validation Accuracy: 77.14% 0.024320948868989944\n",
      "Epoch [48/50], Validation Accuracy: 76.29% 0.03921845927834511\n",
      "Epoch [49/50], Validation Accuracy: 77.43% 0.016817396506667137\n",
      "Epoch [50/50], Validation Accuracy: 75.71% 0.06088362634181976\n"
     ]
    }
   ],
   "source": [
    "X_train, X_val, y_train, y_val = train_test_split(X, y, test_size=0.2, random_state=42)\n",
    "\n",
    "train_dataset = TensorDataset(X_train, y_train)\n",
    "val_dataset = TensorDataset(X_val, y_val)\n",
    "train_loader = DataLoader(train_dataset, batch_size=128, shuffle=True)\n",
    "val_loader = DataLoader(val_dataset, batch_size=128, shuffle=False)\n",
    "\n",
    "\n",
    "# Model parameters\n",
    "input_size = X.shape[2]\n",
    "hidden_size = 512\n",
    "num_layers = 3\n",
    "num_classes = len(label_encoder.classes_)\n",
    "model = DeepLSTMModel(input_size, hidden_size, num_layers, num_classes)\n",
    "\n",
    "# Loss and optimizer\n",
    "criterion = nn.CrossEntropyLoss()\n",
    "optimizer = optim.Adam(model.parameters(), lr=0.0001, weight_decay=1e-4)\n",
    "scheduler = optim.lr_scheduler.ReduceLROnPlateau(optimizer, mode='max', factor=0.5, patience=5, verbose=True)\n",
    "\n",
    "\n",
    "# Training loop with early stopping\n",
    "epochs = 50\n",
    "best_acc = 0\n",
    "# patience, counter = 10, 0\n",
    "for epoch in range(epochs):\n",
    "    model.train()\n",
    "    for X_batch, y_batch in train_loader:\n",
    "        optimizer.zero_grad()\n",
    "        outputs = model(X_batch)\n",
    "        loss = criterion(outputs, y_batch)\n",
    "        loss.backward()\n",
    "        optimizer.step()\n",
    "\n",
    "    \n",
    "    # Validation\n",
    "    model.eval()\n",
    "    correct, total = 0, 0\n",
    "    with torch.no_grad():\n",
    "        for X_batch, y_batch in val_loader:\n",
    "            outputs = model(X_batch)\n",
    "            _, predicted = torch.max(outputs, 1)\n",
    "            total += y_batch.size(0)\n",
    "            correct += (predicted == y_batch).sum().item()\n",
    "    accuracy = 100 * correct / total\n",
    "    print(f\"Epoch [{epoch+1}/{epochs}], Validation Accuracy: {accuracy:.2f}% {loss}\")\n",
    "    scheduler.step(accuracy)\n",
    "    \n",
    "    # # Early Stopping\n",
    "    # if accuracy > best_acc:\n",
    "    #     best_acc = accuracy\n",
    "    #     counter = 0\n",
    "    # else:\n",
    "    #     counter += 1\n",
    "    #     if counter >= patience:\n",
    "    #         print(\"Early stopping triggered.\")\n",
    "    #         break\n"
   ]
  },
  {
   "cell_type": "code",
   "execution_count": 20,
   "metadata": {},
   "outputs": [],
   "source": [
    "test_df = pd.read_csv(\"data.csv\")\n",
    "X_test = scaler.transform(test_df[feature_column])\n",
    "X_test = torch.tensor(X_test, dtype=torch.float32).unsqueeze(1)\n",
    "\n",
    "model.eval()\n",
    "with torch.no_grad():\n",
    "    test_outputs = model(X_test)\n",
    "    test_predictions = torch.argmax(test_outputs, axis=1)\n",
    "    test_predictions = label_encoder.inverse_transform(test_predictions.numpy())\n",
    "\n",
    "output_df = pd.DataFrame({\"ID\": test_df[\"ID\"], \"y_pred\": test_predictions, \"y_true\": test_df[target_column]})\n"
   ]
  },
  {
   "cell_type": "code",
   "execution_count": 21,
   "metadata": {},
   "outputs": [
    {
     "name": "stdout",
     "output_type": "stream",
     "text": [
      "Accuracy: 13.98%\n"
     ]
    }
   ],
   "source": [
    "common.get_accuracy(output_df)"
   ]
  }
 ],
 "metadata": {
  "kernelspec": {
   "display_name": "base",
   "language": "python",
   "name": "python3"
  },
  "language_info": {
   "codemirror_mode": {
    "name": "ipython",
    "version": 3
   },
   "file_extension": ".py",
   "mimetype": "text/x-python",
   "name": "python",
   "nbconvert_exporter": "python",
   "pygments_lexer": "ipython3",
   "version": "3.11.0"
  }
 },
 "nbformat": 4,
 "nbformat_minor": 2
}
