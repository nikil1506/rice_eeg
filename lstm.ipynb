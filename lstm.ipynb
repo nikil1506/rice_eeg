{
 "cells": [
  {
   "cell_type": "code",
   "execution_count": 16,
   "metadata": {},
   "outputs": [],
   "source": [
    "import torch\n",
    "import torch.nn as nn\n",
    "import torch.optim as optim\n",
    "from sklearn.model_selection import train_test_split\n",
    "from sklearn.preprocessing import LabelEncoder, StandardScaler\n",
    "from torch.utils.data import DataLoader, TensorDataset\n",
    "import common as common\n",
    "import pandas as pd"
   ]
  },
  {
   "cell_type": "code",
   "execution_count": 17,
   "metadata": {},
   "outputs": [],
   "source": [
    "class DeepLSTMModel(nn.Module):\n",
    "    def __init__(self, input_size, hidden_size, num_layers, num_classes):\n",
    "        super(DeepLSTMModel, self).__init__()\n",
    "        self.lstm = nn.LSTM(input_size, hidden_size, num_layers=num_layers, batch_first=True, bidirectional=True, dropout=0.5)\n",
    "        self.fc = nn.Linear(hidden_size * 2, num_classes)\n",
    "    \n",
    "    def forward(self, x):\n",
    "        x, _ = self.lstm(x)\n",
<<<<<<< HEAD
    "        x = x[:, -1, :]  # Take the last output from sequence\n",
=======
    "        x = x[:, -1, :]\n",
>>>>>>> 382a49f8ae5becc04353a2399bf6874b51eeecf2
    "        out = self.fc(x)\n",
    "        return out\n"
   ]
  },
  {
   "cell_type": "code",
<<<<<<< HEAD
   "execution_count": 3,
=======
   "execution_count": 18,
>>>>>>> 382a49f8ae5becc04353a2399bf6874b51eeecf2
   "metadata": {},
   "outputs": [
    {
     "name": "stdout",
     "output_type": "stream",
     "text": [
<<<<<<< HEAD
      "3    0.293427\n",
      "0    0.200704\n",
      "5    0.127934\n",
      "6    0.124413\n",
      "1    0.106808\n",
      "2    0.102113\n",
      "4    0.044601\n",
=======
      "3    0.142857\n",
      "2    0.142857\n",
      "5    0.142857\n",
      "4    0.142857\n",
      "0    0.142857\n",
      "1    0.142857\n",
      "6    0.142857\n",
>>>>>>> 382a49f8ae5becc04353a2399bf6874b51eeecf2
      "Name: proportion, dtype: float64\n"
     ]
    }
   ],
   "source": [
    "train_df = common.get_train_df()\n",
    "train_df = common.over_sample_df(train_df)\n",
    "target_column, feature_column = common.get_column_names(train_df)\n",
    "\n",
    "label_encoder = LabelEncoder()\n",
    "y = label_encoder.fit_transform(train_df[target_column])\n",
    "\n",
    "scaler = StandardScaler()\n",
    "X = scaler.fit_transform(train_df[feature_column])\n",
    "\n",
    "X = torch.tensor(X, dtype=torch.float32).unsqueeze(1)\n",
    "y = torch.tensor(y, dtype=torch.long)\n",
    "\n",
    "common.print_class_distribution(y)"
   ]
  },
  {
   "cell_type": "code",
<<<<<<< HEAD
   "execution_count": 4,
=======
   "execution_count": 19,
>>>>>>> 382a49f8ae5becc04353a2399bf6874b51eeecf2
   "metadata": {},
   "outputs": [
    {
     "name": "stderr",
     "output_type": "stream",
     "text": [
      "/opt/anaconda3/lib/python3.11/site-packages/torch/optim/lr_scheduler.py:62: UserWarning: The verbose parameter is deprecated. Please use get_last_lr() to access the learning rate.\n",
      "  warnings.warn(\n"
     ]
    },
    {
     "name": "stdout",
     "output_type": "stream",
     "text": [
<<<<<<< HEAD
      "Epoch [1/50], Validation Accuracy: 24.56% 1.9453563690185547\n",
      "Epoch [2/50], Validation Accuracy: 26.90% 1.925510287284851\n",
      "Epoch [3/50], Validation Accuracy: 27.49% 1.8830530643463135\n",
      "Epoch [4/50], Validation Accuracy: 26.32% 1.8821258544921875\n",
      "Epoch [5/50], Validation Accuracy: 26.32% 1.8646997213363647\n",
      "Epoch [6/50], Validation Accuracy: 26.32% 1.8449034690856934\n",
      "Epoch [7/50], Validation Accuracy: 26.90% 1.8504183292388916\n",
      "Epoch [8/50], Validation Accuracy: 29.24% 1.8124253749847412\n",
      "Epoch [9/50], Validation Accuracy: 29.82% 1.8608630895614624\n",
      "Epoch [10/50], Validation Accuracy: 29.82% 1.824268102645874\n",
      "Epoch [11/50], Validation Accuracy: 29.82% 1.78512704372406\n",
      "Epoch [12/50], Validation Accuracy: 29.82% 1.7952433824539185\n",
      "Epoch [13/50], Validation Accuracy: 29.82% 1.8315410614013672\n",
      "Epoch [14/50], Validation Accuracy: 29.82% 1.86665678024292\n",
      "Epoch [15/50], Validation Accuracy: 29.82% 1.7171128988265991\n",
      "Epoch [16/50], Validation Accuracy: 29.82% 1.6422005891799927\n",
      "Epoch [17/50], Validation Accuracy: 29.82% 1.7769585847854614\n",
      "Epoch [18/50], Validation Accuracy: 28.65% 1.6312066316604614\n",
      "Epoch [19/50], Validation Accuracy: 28.07% 1.7321385145187378\n",
      "Early stopping triggered.\n"
=======
      "Epoch [1/50], Validation Accuracy: 15.14% 1.9418785572052002\n",
      "Epoch [2/50], Validation Accuracy: 16.29% 1.9342423677444458\n",
      "Epoch [3/50], Validation Accuracy: 16.57% 1.9231781959533691\n",
      "Epoch [4/50], Validation Accuracy: 19.14% 1.8937811851501465\n",
      "Epoch [5/50], Validation Accuracy: 21.71% 1.876651406288147\n",
      "Epoch [6/50], Validation Accuracy: 24.86% 1.824602484703064\n",
      "Epoch [7/50], Validation Accuracy: 28.29% 1.684921383857727\n",
      "Epoch [8/50], Validation Accuracy: 29.43% 1.5216585397720337\n",
      "Epoch [9/50], Validation Accuracy: 36.86% 1.5215129852294922\n",
      "Epoch [10/50], Validation Accuracy: 40.00% 1.4107234477996826\n",
      "Epoch [11/50], Validation Accuracy: 44.57% 1.363008737564087\n",
      "Epoch [12/50], Validation Accuracy: 46.57% 1.1611924171447754\n",
      "Epoch [13/50], Validation Accuracy: 52.29% 1.1093069314956665\n",
      "Epoch [14/50], Validation Accuracy: 55.71% 0.8943093419075012\n",
      "Epoch [15/50], Validation Accuracy: 59.14% 0.8272336721420288\n",
      "Epoch [16/50], Validation Accuracy: 61.43% 0.7049026489257812\n",
      "Epoch [17/50], Validation Accuracy: 65.71% 0.643420398235321\n",
      "Epoch [18/50], Validation Accuracy: 68.29% 0.5457960963249207\n",
      "Epoch [19/50], Validation Accuracy: 67.71% 0.3481185734272003\n",
      "Epoch [20/50], Validation Accuracy: 69.71% 0.47392332553863525\n",
      "Epoch [21/50], Validation Accuracy: 71.43% 0.2899896204471588\n",
      "Epoch [22/50], Validation Accuracy: 71.71% 0.32096579670906067\n",
      "Epoch [23/50], Validation Accuracy: 73.14% 0.26823151111602783\n",
      "Epoch [24/50], Validation Accuracy: 71.71% 0.17785897850990295\n",
      "Epoch [25/50], Validation Accuracy: 73.43% 0.15605054795742035\n",
      "Epoch [26/50], Validation Accuracy: 72.86% 0.187788188457489\n",
      "Epoch [27/50], Validation Accuracy: 74.00% 0.12482861429452896\n",
      "Epoch [28/50], Validation Accuracy: 76.00% 0.09397538006305695\n",
      "Epoch [29/50], Validation Accuracy: 74.86% 0.13193818926811218\n",
      "Epoch [30/50], Validation Accuracy: 76.29% 0.09438689798116684\n",
      "Epoch [31/50], Validation Accuracy: 75.43% 0.057969603687524796\n",
      "Epoch [32/50], Validation Accuracy: 75.71% 0.18025587499141693\n",
      "Epoch [33/50], Validation Accuracy: 75.43% 0.06731195002794266\n",
      "Epoch [34/50], Validation Accuracy: 76.86% 0.050109099596738815\n",
      "Epoch [35/50], Validation Accuracy: 76.00% 0.06009721755981445\n",
      "Epoch [36/50], Validation Accuracy: 76.29% 0.04561852663755417\n",
      "Epoch [37/50], Validation Accuracy: 76.57% 0.04904932156205177\n",
      "Epoch [38/50], Validation Accuracy: 76.29% 0.10917899757623672\n",
      "Epoch [39/50], Validation Accuracy: 76.86% 0.04308803007006645\n",
      "Epoch [40/50], Validation Accuracy: 77.14% 0.05913998559117317\n",
      "Epoch [41/50], Validation Accuracy: 76.29% 0.04644600301980972\n",
      "Epoch [42/50], Validation Accuracy: 76.29% 0.040839191526174545\n",
      "Epoch [43/50], Validation Accuracy: 77.14% 0.024409089237451553\n",
      "Epoch [44/50], Validation Accuracy: 76.29% 0.018075743690133095\n",
      "Epoch [45/50], Validation Accuracy: 77.43% 0.017249416559934616\n",
      "Epoch [46/50], Validation Accuracy: 77.14% 0.02089465968310833\n",
      "Epoch [47/50], Validation Accuracy: 77.14% 0.024320948868989944\n",
      "Epoch [48/50], Validation Accuracy: 76.29% 0.03921845927834511\n",
      "Epoch [49/50], Validation Accuracy: 77.43% 0.016817396506667137\n",
      "Epoch [50/50], Validation Accuracy: 75.71% 0.06088362634181976\n"
>>>>>>> 382a49f8ae5becc04353a2399bf6874b51eeecf2
     ]
    }
   ],
   "source": [
<<<<<<< HEAD
    "\n",
    "\n",
=======
>>>>>>> 382a49f8ae5becc04353a2399bf6874b51eeecf2
    "X_train, X_val, y_train, y_val = train_test_split(X, y, test_size=0.2, random_state=42)\n",
    "\n",
    "train_dataset = TensorDataset(X_train, y_train)\n",
    "val_dataset = TensorDataset(X_val, y_val)\n",
    "train_loader = DataLoader(train_dataset, batch_size=128, shuffle=True)\n",
    "val_loader = DataLoader(val_dataset, batch_size=128, shuffle=False)\n",
    "\n",
    "\n",
    "# Model parameters\n",
    "input_size = X.shape[2]\n",
<<<<<<< HEAD
    "hidden_size = 256\n",
    "num_layers = 2\n",
=======
    "hidden_size = 512\n",
    "num_layers = 3\n",
>>>>>>> 382a49f8ae5becc04353a2399bf6874b51eeecf2
    "num_classes = len(label_encoder.classes_)\n",
    "model = DeepLSTMModel(input_size, hidden_size, num_layers, num_classes)\n",
    "\n",
    "# Loss and optimizer\n",
    "criterion = nn.CrossEntropyLoss()\n",
    "optimizer = optim.Adam(model.parameters(), lr=0.0001, weight_decay=1e-4)\n",
    "scheduler = optim.lr_scheduler.ReduceLROnPlateau(optimizer, mode='max', factor=0.5, patience=5, verbose=True)\n",
    "\n",
    "\n",
    "# Training loop with early stopping\n",
    "epochs = 50\n",
    "best_acc = 0\n",
<<<<<<< HEAD
    "patience, counter = 10, 0\n",
=======
    "# patience, counter = 10, 0\n",
>>>>>>> 382a49f8ae5becc04353a2399bf6874b51eeecf2
    "for epoch in range(epochs):\n",
    "    model.train()\n",
    "    for X_batch, y_batch in train_loader:\n",
    "        optimizer.zero_grad()\n",
    "        outputs = model(X_batch)\n",
    "        loss = criterion(outputs, y_batch)\n",
    "        loss.backward()\n",
    "        optimizer.step()\n",
    "\n",
    "    \n",
    "    # Validation\n",
    "    model.eval()\n",
    "    correct, total = 0, 0\n",
    "    with torch.no_grad():\n",
    "        for X_batch, y_batch in val_loader:\n",
    "            outputs = model(X_batch)\n",
    "            _, predicted = torch.max(outputs, 1)\n",
    "            total += y_batch.size(0)\n",
    "            correct += (predicted == y_batch).sum().item()\n",
    "    accuracy = 100 * correct / total\n",
    "    print(f\"Epoch [{epoch+1}/{epochs}], Validation Accuracy: {accuracy:.2f}% {loss}\")\n",
    "    scheduler.step(accuracy)\n",
    "    \n",
<<<<<<< HEAD
    "    # Early Stopping\n",
    "    if accuracy > best_acc:\n",
    "        best_acc = accuracy\n",
    "        counter = 0\n",
    "    else:\n",
    "        counter += 1\n",
    "        if counter >= patience:\n",
    "            print(\"Early stopping triggered.\")\n",
    "            break\n"
=======
    "    # # Early Stopping\n",
    "    # if accuracy > best_acc:\n",
    "    #     best_acc = accuracy\n",
    "    #     counter = 0\n",
    "    # else:\n",
    "    #     counter += 1\n",
    "    #     if counter >= patience:\n",
    "    #         print(\"Early stopping triggered.\")\n",
    "    #         break\n"
>>>>>>> 382a49f8ae5becc04353a2399bf6874b51eeecf2
   ]
  },
  {
   "cell_type": "code",
<<<<<<< HEAD
   "execution_count": 5,
   "metadata": {},
   "outputs": [
    {
     "data": {
      "text/plain": [
       "Index(['AB.A.delta.a.FP1', 'AB.A.delta.b.FP2', 'AB.A.delta.c.F7',\n",
       "       'AB.A.delta.d.F3', 'AB.A.delta.e.Fz', 'AB.A.delta.f.F4',\n",
       "       'AB.A.delta.g.F8', 'AB.A.delta.h.T3', 'AB.A.delta.i.C3',\n",
       "       'AB.A.delta.j.Cz',\n",
       "       ...\n",
       "       'COH.F.gamma.o.Pz.p.P4', 'COH.F.gamma.o.Pz.q.T6',\n",
       "       'COH.F.gamma.o.Pz.r.O1', 'COH.F.gamma.o.Pz.s.O2',\n",
       "       'COH.F.gamma.p.P4.q.T6', 'COH.F.gamma.p.P4.r.O1',\n",
       "       'COH.F.gamma.p.P4.s.O2', 'COH.F.gamma.q.T6.r.O1',\n",
       "       'COH.F.gamma.q.T6.s.O2', 'COH.F.gamma.r.O1.s.O2'],\n",
       "      dtype='object', length=1140)"
      ]
     },
     "execution_count": 5,
     "metadata": {},
     "output_type": "execute_result"
    }
   ],
   "source": [
    "test_df = pd.read_csv(\"data/data.csv\")\n",
    "test_df[feature_column].columns"
   ]
  },
  {
   "cell_type": "code",
   "execution_count": 6,
   "metadata": {},
   "outputs": [
    {
     "data": {
      "text/plain": [
       "Index(['AB.A.delta.a.FP1', 'AB.A.delta.b.FP2', 'AB.A.delta.c.F7',\n",
       "       'AB.A.delta.d.F3', 'AB.A.delta.e.Fz', 'AB.A.delta.f.F4',\n",
       "       'AB.A.delta.g.F8', 'AB.A.delta.h.T3', 'AB.A.delta.i.C3',\n",
       "       'AB.A.delta.j.Cz',\n",
       "       ...\n",
       "       'COH.F.gamma.o.Pz.p.P4', 'COH.F.gamma.o.Pz.q.T6',\n",
       "       'COH.F.gamma.o.Pz.r.O1', 'COH.F.gamma.o.Pz.s.O2',\n",
       "       'COH.F.gamma.p.P4.q.T6', 'COH.F.gamma.p.P4.r.O1',\n",
       "       'COH.F.gamma.p.P4.s.O2', 'COH.F.gamma.q.T6.r.O1',\n",
       "       'COH.F.gamma.q.T6.s.O2', 'COH.F.gamma.r.O1.s.O2'],\n",
       "      dtype='object', length=1140)"
      ]
     },
     "execution_count": 6,
     "metadata": {},
     "output_type": "execute_result"
    }
   ],
   "source": [
    "train_df[feature_column].columns"
   ]
  },
  {
   "cell_type": "code",
   "execution_count": 12,
   "metadata": {},
   "outputs": [
    {
     "data": {
      "text/html": [
       "<div>\n",
       "<style scoped>\n",
       "    .dataframe tbody tr th:only-of-type {\n",
       "        vertical-align: middle;\n",
       "    }\n",
       "\n",
       "    .dataframe tbody tr th {\n",
       "        vertical-align: top;\n",
       "    }\n",
       "\n",
       "    .dataframe thead th {\n",
       "        text-align: right;\n",
       "    }\n",
       "</style>\n",
       "<table border=\"1\" class=\"dataframe\">\n",
       "  <thead>\n",
       "    <tr style=\"text-align: right;\">\n",
       "      <th></th>\n",
       "      <th>ID</th>\n",
       "      <th>y_pred</th>\n",
       "      <th>y_true</th>\n",
       "    </tr>\n",
       "  </thead>\n",
       "  <tbody>\n",
       "    <tr>\n",
       "      <th>0</th>\n",
       "      <td>17</td>\n",
       "      <td>Mood disorder</td>\n",
       "      <td>Schizophrenia</td>\n",
       "    </tr>\n",
       "    <tr>\n",
       "      <th>1</th>\n",
       "      <td>28</td>\n",
       "      <td>Mood disorder</td>\n",
       "      <td>Addictive disorder</td>\n",
       "    </tr>\n",
       "    <tr>\n",
       "      <th>2</th>\n",
       "      <td>33</td>\n",
       "      <td>Mood disorder</td>\n",
       "      <td>Anxiety disorder</td>\n",
       "    </tr>\n",
       "    <tr>\n",
       "      <th>3</th>\n",
       "      <td>41</td>\n",
       "      <td>Mood disorder</td>\n",
       "      <td>Schizophrenia</td>\n",
       "    </tr>\n",
       "    <tr>\n",
       "      <th>4</th>\n",
       "      <td>48</td>\n",
       "      <td>Mood disorder</td>\n",
       "      <td>Schizophrenia</td>\n",
       "    </tr>\n",
       "    <tr>\n",
       "      <th>...</th>\n",
       "      <td>...</td>\n",
       "      <td>...</td>\n",
       "      <td>...</td>\n",
       "    </tr>\n",
       "    <tr>\n",
       "      <th>88</th>\n",
       "      <td>885</td>\n",
       "      <td>Mood disorder</td>\n",
       "      <td>Healthy control</td>\n",
       "    </tr>\n",
       "    <tr>\n",
       "      <th>89</th>\n",
       "      <td>896</td>\n",
       "      <td>Addictive disorder</td>\n",
       "      <td>Obsessive compulsive disorder</td>\n",
       "    </tr>\n",
       "    <tr>\n",
       "      <th>90</th>\n",
       "      <td>917</td>\n",
       "      <td>Mood disorder</td>\n",
       "      <td>Anxiety disorder</td>\n",
       "    </tr>\n",
       "    <tr>\n",
       "      <th>91</th>\n",
       "      <td>918</td>\n",
       "      <td>Mood disorder</td>\n",
       "      <td>Anxiety disorder</td>\n",
       "    </tr>\n",
       "    <tr>\n",
       "      <th>92</th>\n",
       "      <td>925</td>\n",
       "      <td>Mood disorder</td>\n",
       "      <td>Mood disorder</td>\n",
       "    </tr>\n",
       "  </tbody>\n",
       "</table>\n",
       "<p>93 rows × 3 columns</p>\n",
       "</div>"
      ],
      "text/plain": [
       "     ID              y_pred                         y_true\n",
       "0    17       Mood disorder                  Schizophrenia\n",
       "1    28       Mood disorder             Addictive disorder\n",
       "2    33       Mood disorder               Anxiety disorder\n",
       "3    41       Mood disorder                  Schizophrenia\n",
       "4    48       Mood disorder                  Schizophrenia\n",
       "..  ...                 ...                            ...\n",
       "88  885       Mood disorder                Healthy control\n",
       "89  896  Addictive disorder  Obsessive compulsive disorder\n",
       "90  917       Mood disorder               Anxiety disorder\n",
       "91  918       Mood disorder               Anxiety disorder\n",
       "92  925       Mood disorder                  Mood disorder\n",
       "\n",
       "[93 rows x 3 columns]"
      ]
     },
     "execution_count": 12,
     "metadata": {},
     "output_type": "execute_result"
    }
   ],
   "source": [
    "test_df = pd.read_csv(\"data/data.csv\")\n",
=======
   "execution_count": 20,
   "metadata": {},
   "outputs": [],
   "source": [
    "test_df = pd.read_csv(\"data.csv\")\n",
>>>>>>> 382a49f8ae5becc04353a2399bf6874b51eeecf2
    "X_test = scaler.transform(test_df[feature_column])\n",
    "X_test = torch.tensor(X_test, dtype=torch.float32).unsqueeze(1)\n",
    "\n",
    "model.eval()\n",
    "with torch.no_grad():\n",
    "    test_outputs = model(X_test)\n",
    "    test_predictions = torch.argmax(test_outputs, axis=1)\n",
    "    test_predictions = label_encoder.inverse_transform(test_predictions.numpy())\n",
    "\n",
<<<<<<< HEAD
    "output_df = pd.DataFrame({\"ID\": test_df[\"ID\"], \"y_pred\": test_predictions, \"y_true\": test_df[target_column]})\n",
    "output_df"
=======
    "output_df = pd.DataFrame({\"ID\": test_df[\"ID\"], \"y_pred\": test_predictions, \"y_true\": test_df[target_column]})\n"
   ]
  },
  {
   "cell_type": "code",
   "execution_count": 21,
   "metadata": {},
   "outputs": [
    {
     "name": "stdout",
     "output_type": "stream",
     "text": [
      "Accuracy: 13.98%\n"
     ]
    }
   ],
   "source": [
    "common.get_accuracy(output_df)"
>>>>>>> 382a49f8ae5becc04353a2399bf6874b51eeecf2
   ]
  }
 ],
 "metadata": {
  "kernelspec": {
   "display_name": "base",
   "language": "python",
   "name": "python3"
  },
  "language_info": {
   "codemirror_mode": {
    "name": "ipython",
    "version": 3
   },
   "file_extension": ".py",
   "mimetype": "text/x-python",
   "name": "python",
   "nbconvert_exporter": "python",
   "pygments_lexer": "ipython3",
   "version": "3.11.0"
  }
 },
 "nbformat": 4,
 "nbformat_minor": 2
}
