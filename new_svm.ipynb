{
 "cells": [
  {
   "cell_type": "code",
   "execution_count": 1,
   "metadata": {},
   "outputs": [],
   "source": [
    "# Relevant EEG features for classification based on the study\n",
    "relevant_columns = [\n",
    "    \"main.disorder\",  # Target variable\n",
    "\n",
    "    # Schizophrenia (alpha PSD)\n",
    "    \"AB.C.alpha.a.FP1\", \"AB.C.alpha.b.FP2\", \"AB.C.alpha.c.F7\", \"AB.C.alpha.d.F3\",\n",
    "    \"AB.C.alpha.e.Fz\", \"AB.C.alpha.f.F4\", \"AB.C.alpha.g.F8\", \"AB.C.alpha.h.T3\",\n",
    "    \"AB.C.alpha.i.C3\", \"AB.C.alpha.j.Cz\", \"AB.C.alpha.k.C4\", \"AB.C.alpha.l.T4\",\n",
    "    \"AB.C.alpha.m.T5\", \"AB.C.alpha.n.P3\", \"AB.C.alpha.o.Pz\", \"AB.C.alpha.p.P4\",\n",
    "    \"AB.C.alpha.q.T6\", \"AB.C.alpha.r.O1\", \"AB.C.alpha.s.O2\",\n",
    "\n",
    "    # Trauma and stress-related disorders (beta FC)\n",
    "    \"COH.D.beta.a.FP1.b.FP2\", \"COH.D.beta.c.F7.d.F3\", \"COH.D.beta.e.Fz.f.F4\",\n",
    "    \"COH.D.beta.g.F8.h.T3\", \"COH.D.beta.i.C3.j.Cz\", \"COH.D.beta.k.C4.l.T4\",\n",
    "    \"COH.D.beta.m.T5.n.P3\", \"COH.D.beta.o.Pz.p.P4\", \"COH.D.beta.q.T6.r.O1\",\n",
    "\n",
    "    # Anxiety disorders (whole band PSD: all frequency bands)\n",
    "    \"AB.A.delta.a.FP1\", \"AB.A.delta.b.FP2\", \"AB.B.theta.a.FP1\", \"AB.B.theta.b.FP2\",\n",
    "    \"AB.C.alpha.a.FP1\", \"AB.C.alpha.b.FP2\", \"AB.D.beta.a.FP1\", \"AB.D.beta.b.FP2\",\n",
    "    \"AB.E.highbeta.a.FP1\", \"AB.E.highbeta.b.FP2\", \"AB.F.gamma.a.FP1\", \"AB.F.gamma.b.FP2\",\n",
    "\n",
    "    # Mood disorders (theta FC)\n",
    "    \"COH.B.theta.a.FP1.b.FP2\", \"COH.B.theta.c.F7.d.F3\", \"COH.B.theta.e.Fz.f.F4\",\n",
    "    \"COH.B.theta.g.F8.h.T3\", \"COH.B.theta.i.C3.j.Cz\", \"COH.B.theta.k.C4.l.T4\",\n",
    "    \"COH.B.theta.m.T5.n.P3\", \"COH.B.theta.o.Pz.p.P4\", \"COH.B.theta.q.T6.r.O1\",\n",
    "\n",
    "    # Addictive disorders (theta PSD)\n",
    "    \"AB.B.theta.a.FP1\", \"AB.B.theta.b.FP2\", \"AB.B.theta.c.F7\", \"AB.B.theta.d.F3\",\n",
    "    \"AB.B.theta.e.Fz\", \"AB.B.theta.f.F4\", \"AB.B.theta.g.F8\", \"AB.B.theta.h.T3\",\n",
    "    \"AB.B.theta.i.C3\", \"AB.B.theta.j.Cz\", \"AB.B.theta.k.C4\", \"AB.B.theta.l.T4\",\n",
    "    \"AB.B.theta.m.T5\", \"AB.B.theta.n.P3\", \"AB.B.theta.o.Pz\", \"AB.B.theta.p.P4\",\n",
    "    \"AB.B.theta.q.T6\", \"AB.B.theta.r.O1\", \"AB.B.theta.s.O2\",\n",
    "\n",
    "    # Obsessive-compulsive disorder (gamma FC)\n",
    "    \"COH.F.gamma.a.FP1.b.FP2\", \"COH.F.gamma.c.F7.d.F3\", \"COH.F.gamma.e.Fz.f.F4\",\n",
    "    \"COH.F.gamma.g.F8.h.T3\", \"COH.F.gamma.i.C3.j.Cz\", \"COH.F.gamma.k.C4.l.T4\",\n",
    "    \"COH.F.gamma.m.T5.n.P3\", \"COH.F.gamma.o.Pz.p.P4\", \"COH.F.gamma.q.T6.r.O1\"\n",
    "]\n",
    "\n",
    "\n",
    "\n"
   ]
  },
  {
   "cell_type": "code",
   "execution_count": 2,
   "metadata": {},
   "outputs": [],
   "source": [
    "import pandas as pd\n",
    "import numpy as np\n",
    "from sklearn.model_selection import train_test_split, GridSearchCV\n",
    "from sklearn.preprocessing import StandardScaler, LabelEncoder, MinMaxScaler\n",
    "from sklearn.decomposition import PCA\n",
    "from sklearn.svm import SVC\n",
    "import joblib\n",
    "from sklearn.metrics import classification_report, confusion_matrix"
   ]
  },
  {
   "cell_type": "code",
   "execution_count": 3,
   "metadata": {},
   "outputs": [],
   "source": [
    "# ---------------- Load EEG Data ----------------\n",
    "df = pd.read_csv(\"data/shuffled_data.csv\", usecols=relevant_columns)"
   ]
  },
  {
   "cell_type": "code",
   "execution_count": 3,
   "metadata": {},
   "outputs": [],
   "source": [
    "df = pd.read_csv(\"data/train.csv\", usecols=relevant_columns)"
   ]
  },
  {
   "cell_type": "code",
   "execution_count": null,
   "metadata": {},
   "outputs": [],
   "source": [
    "df = pd.read_csv(\"data/synthetic_eeg.csv\", usecols=relevant_columns)"
   ]
  },
  {
   "cell_type": "code",
   "execution_count": 4,
   "metadata": {},
   "outputs": [],
   "source": [
    "# Extract target labels\n",
    "y = df[\"main.disorder\"]\n",
    "X = df.drop(columns=[\"main.disorder\"])\n",
    "\n",
    "# Encode labels\n",
    "label_encoder = LabelEncoder()\n",
    "y = label_encoder.fit_transform(y)\n",
    "\n",
    "# ---------------- Balance Classes via Duplication ----------------\n",
    "class_counts = np.bincount(y)\n",
    "max_class_size = max(class_counts)\n",
    "\n",
    "X_balanced = []\n",
    "y_balanced = []\n",
    "\n",
    "for class_label in np.unique(y):\n",
    "    X_class = X[y == class_label]\n",
    "    y_class = y[y == class_label]\n",
    "\n",
    "    # Duplicate underrepresented classes\n",
    "    while len(X_class) < max_class_size:\n",
    "        X_class = pd.concat([X_class, X_class], ignore_index=True)\n",
    "        y_class = np.concatenate([y_class, y_class])\n",
    "\n",
    "    # Trim excess\n",
    "    X_class = X_class[:max_class_size]\n",
    "    y_class = y_class[:max_class_size]\n",
    "\n",
    "    X_balanced.append(X_class)\n",
    "    y_balanced.append(y_class)\n",
    "\n",
    "X_balanced = pd.concat(X_balanced, ignore_index=True)\n",
    "y_balanced = np.concatenate(y_balanced)"
   ]
  },
  {
   "cell_type": "code",
   "execution_count": 5,
   "metadata": {},
   "outputs": [],
   "source": [
    "# ---------------- Feature Scaling ----------------\n",
    "scaler = MinMaxScaler()\n",
    "X_scaled = scaler.fit_transform(X_balanced)\n",
    "\n",
    "# # ---------------- Dimensionality Reduction with PCA ----------------\n",
    "# pca = PCA(n_components=30)  \n",
    "# X_pca = pca.fit_transform(X_scaled)\n",
    "\n",
    "# ---------------- Train-Test Split ----------------\n",
    "X_train, X_test, y_train, y_test = train_test_split(X_scaled, y_balanced, test_size=0.2, random_state=42)\n",
    "\n",
    "# ---------------- Train SVM Model with Hyperparameter Tuning ----------------\n",
    "param_grid = {\"C\": [0.1, 0.5, 1, 5, 10], \"kernel\": [\"rbf\", \"linear\"]}  \n",
    "svm = GridSearchCV(SVC(), param_grid, cv=5, scoring=\"accuracy\")\n",
    "svm.fit(X_train, y_train)\n",
    "\n",
    "# ---------------- Evaluate SVM Model ----------------\n",
    "y_pred = svm.best_estimator_.predict(X_test)"
   ]
  },
  {
   "cell_type": "code",
   "execution_count": 6,
   "metadata": {},
   "outputs": [
    {
     "name": "stdout",
     "output_type": "stream",
     "text": [
      "\n",
      " Best SVM Hyperparameters: {'C': 10, 'kernel': 'rbf'}\n",
      "\n",
      " Classification Report:\n",
      "                                    precision    recall  f1-score   support\n",
      "\n",
      "                Addictive disorder       0.31      0.47      0.38        45\n",
      "                  Anxiety disorder       0.34      0.32      0.33        59\n",
      "                   Healthy control       0.45      0.66      0.53        44\n",
      "                     Mood disorder       0.21      0.13      0.16        47\n",
      "     Obsessive compulsive disorder       0.66      0.77      0.71        60\n",
      "                     Schizophrenia       0.46      0.29      0.35        38\n",
      "Trauma and stress related disorder       0.47      0.33      0.39        57\n",
      "\n",
      "                          accuracy                           0.43       350\n",
      "                         macro avg       0.41      0.42      0.41       350\n",
      "                      weighted avg       0.42      0.43      0.42       350\n",
      "\n",
      "\n",
      " Confusion Matrix:\n",
      "[[21  4  7  4  5  0  4]\n",
      " [11 19  8  5 10  3  3]\n",
      " [ 8  1 29  0  2  3  1]\n",
      " [ 9 12  8  6  2  6  4]\n",
      " [ 3  5  2  0 46  0  4]\n",
      " [ 2  5  7  7  1 11  5]\n",
      " [13 10  4  6  4  1 19]]\n",
      "\n",
      " SVM EEG Classification with PCA & Class Balancing Done!\n"
     ]
    }
   ],
   "source": [
    "print(\"\\n Best SVM Hyperparameters:\", svm.best_params_)\n",
    "print(\"\\n Classification Report:\")\n",
    "print(classification_report(y_test, y_pred, target_names=label_encoder.classes_))\n",
    "\n",
    "print(\"\\n Confusion Matrix:\")\n",
    "print(confusion_matrix(y_test, y_pred))\n",
    "\n",
    "print(\"\\n SVM EEG Classification with PCA & Class Balancing Done!\")"
   ]
  },
  {
   "cell_type": "code",
   "execution_count": 7,
   "metadata": {},
   "outputs": [
    {
     "data": {
      "text/plain": [
       "['label_encoder.pkl']"
      ]
     },
     "execution_count": 7,
     "metadata": {},
     "output_type": "execute_result"
    }
   ],
   "source": [
    "joblib.dump(svm, \"svm_model.pkl\")\n",
    "joblib.dump(scaler,\"scaler.pkl\")\n",
    "joblib.dump(label_encoder,\"label_encoder.pkl\")\n",
    "# joblib.dump(pca, \"pca_model.pkl\")"
   ]
  },
  {
   "cell_type": "code",
   "execution_count": null,
   "metadata": {},
   "outputs": [],
   "source": [
    "import matplotlib.pyplot as plt\n",
    "from sklearn.decomposition import PCA\n",
    "\n",
    "# Fit PCA on the scaled dataset\n",
    "pca = PCA()\n",
    "X_pca_full = pca.fit_transform(X_scaled)\n",
    "\n",
    "# Explained variance ratio\n",
    "explained_variance = np.cumsum(pca.explained_variance_ratio_)\n",
    "\n",
    "# Plot explained variance\n",
    "plt.figure(figsize=(8, 5))\n",
    "plt.plot(range(1, len(explained_variance) + 1), explained_variance, marker=\"o\", linestyle=\"--\")\n",
    "plt.xlabel(\"Number of Components\")\n",
    "plt.ylabel(\"Cumulative Explained Variance\")\n",
    "plt.title(\"PCA Explained Variance Analysis\")\n",
    "plt.axhline(y=0.95, color=\"r\", linestyle=\"--\", label=\"95% Variance Threshold\")\n",
    "plt.legend()\n",
    "plt.show()"
   ]
  },
  {
   "cell_type": "code",
   "execution_count": 14,
   "metadata": {},
   "outputs": [
    {
     "name": "stdout",
     "output_type": "stream",
     "text": [
      "Fitting 5 folds for each of 36 candidates, totalling 180 fits\n",
      "\n",
      "📌 Best SVM Hyperparameters: {'C': 10, 'degree': 2, 'kernel': 'rbf'}\n",
      "\n",
      "📌 Classification Report:\n",
      "                                    precision    recall  f1-score   support\n",
      "\n",
      "                Addictive disorder       0.53      0.24      0.33       110\n",
      "                  Anxiety disorder       0.68      0.49      0.57        90\n",
      "                   Healthy control       0.58      0.44      0.50        85\n",
      "                     Mood disorder       0.24      0.10      0.14        90\n",
      "     Obsessive compulsive disorder       0.74      0.71      0.73        87\n",
      "                     Schizophrenia       0.22      0.72      0.34        87\n",
      "Trauma and stress related disorder       0.61      0.35      0.44        81\n",
      "\n",
      "                          accuracy                           0.43       630\n",
      "                         macro avg       0.51      0.43      0.43       630\n",
      "                      weighted avg       0.51      0.43      0.43       630\n",
      "\n",
      "\n",
      "📌 Confusion Matrix:\n",
      "[[26  6  8 13  4 50  3]\n",
      " [ 4 44  2  0  2 35  3]\n",
      " [ 4  3 37  2  2 37  0]\n",
      " [12  5  8  9  4 45  7]\n",
      " [ 0  2  0  5 62 18  0]\n",
      " [ 1  3  4  7  4 63  5]\n",
      " [ 2  2  5  1  6 37 28]]\n"
     ]
    }
   ],
   "source": [
    "from sklearn.svm import SVC\n",
    "from sklearn.model_selection import GridSearchCV\n",
    "\n",
    "# Select the optimal PCA components (adjust this based on Step 1)\n",
    "optimal_pca_components = 30  # Change based on explained variance results\n",
    "pca = PCA(n_components=optimal_pca_components)\n",
    "X_pca = pca.fit_transform(X_scaled)\n",
    "\n",
    "# Train-Test Split\n",
    "X_train, X_test, y_train, y_test = train_test_split(X_pca, y_balanced, test_size=0.2, random_state=42)\n",
    "\n",
    "# Define SVM parameters for tuning\n",
    "param_grid = {\n",
    "    \"C\": [0.1, 1, 10],  # Regularization parameter\n",
    "    \"kernel\": [\"linear\", \"poly\", \"sigmoid\", \"rbf\"],  # Testing multiple kernels\n",
    "    \"degree\": [2, 3, 4]  # Only used for polynomial kernel\n",
    "}\n",
    "\n",
    "# Perform Grid Search\n",
    "svm = GridSearchCV(SVC(), param_grid, cv=5, scoring=\"accuracy\", verbose=1)\n",
    "svm.fit(X_train, y_train)\n",
    "\n",
    "# Best parameters and performance\n",
    "print(\"\\n Best SVM Hyperparameters:\", svm.best_params_)\n",
    "y_pred = svm.best_estimator_.predict(X_test)\n",
    "\n",
    "# Evaluate performance\n",
    "print(\"\\n Classification Report:\")\n",
    "print(classification_report(y_test, y_pred, target_names=label_encoder.classes_))\n",
    "\n",
    "print(\"\\n Confusion Matrix:\")\n",
    "print(confusion_matrix(y_test, y_pred))\n"
   ]
  },
  {
   "cell_type": "code",
   "execution_count": 9,
   "metadata": {},
   "outputs": [
    {
     "data": {
      "text/plain": [
       "['scaler.pkl']"
      ]
     },
     "execution_count": 9,
     "metadata": {},
     "output_type": "execute_result"
    }
   ],
   "source": []
  },
  {
   "cell_type": "code",
   "execution_count": 2,
   "metadata": {},
   "outputs": [],
   "source": [
    "svm_model = joblib.load(\"svm_mood_vs_healthy.pkl\")\n",
    "scaler = joblib.load(\"svm_significant_scaler.pkl\")\n"
   ]
  },
  {
   "cell_type": "code",
   "execution_count": null,
   "metadata": {},
   "outputs": [],
   "source": [
    "new_data_scaled = scaler.transform()  # Apply same scaler\n",
    "prediction_probs = svm_model.predict_proba(new_data_scaled)[:, 1]\n"
   ]
  }
 ],
 "metadata": {
  "language_info": {
   "name": "python"
  }
 },
 "nbformat": 4,
 "nbformat_minor": 2
}
