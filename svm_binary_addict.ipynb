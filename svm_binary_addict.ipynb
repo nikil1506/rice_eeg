{
 "cells": [
  {
   "cell_type": "code",
   "execution_count": 1,
   "metadata": {},
   "outputs": [],
   "source": [
    "import numpy as np\n",
    "import pandas as pd\n",
    "import joblib\n",
    "from sklearn.model_selection import train_test_split, GridSearchCV\n",
    "from sklearn.preprocessing import StandardScaler, LabelEncoder\n",
    "from sklearn.svm import SVC\n",
    "from sklearn.metrics import accuracy_score, roc_auc_score\n",
    "from imblearn.over_sampling import SMOTE\n",
    "from sklearn.utils.class_weight import compute_class_weight"
   ]
  },
  {
   "cell_type": "code",
   "execution_count": 2,
   "metadata": {},
   "outputs": [],
   "source": [
    "relevant_columns = [\n",
    "    \"main.disorder\",  # Target variable\n",
    "\n",
    "    # Schizophrenia (alpha PSD)\n",
    "    \"AB.C.alpha.a.FP1\", \"AB.C.alpha.b.FP2\", \"AB.C.alpha.c.F7\", \"AB.C.alpha.d.F3\",\n",
    "    \"AB.C.alpha.e.Fz\", \"AB.C.alpha.f.F4\", \"AB.C.alpha.g.F8\", \"AB.C.alpha.h.T3\",\n",
    "    \"AB.C.alpha.i.C3\", \"AB.C.alpha.j.Cz\", \"AB.C.alpha.k.C4\", \"AB.C.alpha.l.T4\",\n",
    "    \"AB.C.alpha.m.T5\", \"AB.C.alpha.n.P3\", \"AB.C.alpha.o.Pz\", \"AB.C.alpha.p.P4\",\n",
    "    \"AB.C.alpha.q.T6\", \"AB.C.alpha.r.O1\", \"AB.C.alpha.s.O2\",\n",
    "\n",
    "    # Trauma and stress-related disorders (beta FC)\n",
    "    \"COH.D.beta.a.FP1.b.FP2\", \"COH.D.beta.c.F7.d.F3\", \"COH.D.beta.e.Fz.f.F4\",\n",
    "    \"COH.D.beta.g.F8.h.T3\", \"COH.D.beta.i.C3.j.Cz\", \"COH.D.beta.k.C4.l.T4\",\n",
    "    \"COH.D.beta.m.T5.n.P3\", \"COH.D.beta.o.Pz.p.P4\", \"COH.D.beta.q.T6.r.O1\",\n",
    "\n",
    "    # Anxiety disorders (whole band PSD: all frequency bands)\n",
    "    \"AB.A.delta.a.FP1\", \"AB.A.delta.b.FP2\", \"AB.B.theta.a.FP1\", \"AB.B.theta.b.FP2\",\n",
    "    \"AB.C.alpha.a.FP1\", \"AB.C.alpha.b.FP2\", \"AB.D.beta.a.FP1\", \"AB.D.beta.b.FP2\",\n",
    "    \"AB.E.highbeta.a.FP1\", \"AB.E.highbeta.b.FP2\", \"AB.F.gamma.a.FP1\", \"AB.F.gamma.b.FP2\",\n",
    "\n",
    "    # Mood disorders (theta FC)\n",
    "    \"COH.B.theta.a.FP1.b.FP2\", \"COH.B.theta.c.F7.d.F3\", \"COH.B.theta.e.Fz.f.F4\",\n",
    "    \"COH.B.theta.g.F8.h.T3\", \"COH.B.theta.i.C3.j.Cz\", \"COH.B.theta.k.C4.l.T4\",\n",
    "    \"COH.B.theta.m.T5.n.P3\", \"COH.B.theta.o.Pz.p.P4\", \"COH.B.theta.q.T6.r.O1\",\n",
    "\n",
    "    # Addictive disorders (theta PSD)\n",
    "    \"AB.B.theta.a.FP1\", \"AB.B.theta.b.FP2\", \"AB.B.theta.c.F7\", \"AB.B.theta.d.F3\",\n",
    "    \"AB.B.theta.e.Fz\", \"AB.B.theta.f.F4\", \"AB.B.theta.g.F8\", \"AB.B.theta.h.T3\",\n",
    "    \"AB.B.theta.i.C3\", \"AB.B.theta.j.Cz\", \"AB.B.theta.k.C4\", \"AB.B.theta.l.T4\",\n",
    "    \"AB.B.theta.m.T5\", \"AB.B.theta.n.P3\", \"AB.B.theta.o.Pz\", \"AB.B.theta.p.P4\",\n",
    "    \"AB.B.theta.q.T6\", \"AB.B.theta.r.O1\", \"AB.B.theta.s.O2\",\n",
    "\n",
    "    # Obsessive-compulsive disorder (gamma FC)\n",
    "    \"COH.F.gamma.a.FP1.b.FP2\", \"COH.F.gamma.c.F7.d.F3\", \"COH.F.gamma.e.Fz.f.F4\",\n",
    "    \"COH.F.gamma.g.F8.h.T3\", \"COH.F.gamma.i.C3.j.Cz\", \"COH.F.gamma.k.C4.l.T4\",\n",
    "    \"COH.F.gamma.m.T5.n.P3\", \"COH.F.gamma.o.Pz.p.P4\", \"COH.F.gamma.q.T6.r.O1\"\n",
    "]\n"
   ]
  },
  {
   "cell_type": "code",
   "execution_count": 3,
   "metadata": {},
   "outputs": [],
   "source": [
    "# Load dataset with only relevant columns\n",
    "data = pd.read_csv(\"data/train.csv\", usecols=relevant_columns)\n",
    "\n",
    "# Filter only Mood Disorder and Healthy Control\n",
    "data = data[data[\"main.disorder\"].isin([\"Healthy control\", \"Addictive disorder\"])]\n",
    "\n",
    "# Encode labels manually: Healthy Control -> 0, Mood Disorder -> 1\n",
    "data[\"main.disorder\"] = data[\"main.disorder\"].map({\n",
    "    \"Healthy control\": 0,\n",
    "    \"Addictive disorder\": 1\n",
    "})\n",
    "\n",
    "# Features and labels\n",
    "X = data.drop(columns=[\"main.disorder\"]).values\n",
    "y = data[\"main.disorder\"].values.astype(int)  # Ensure integer labels\n",
    "\n",
    "# Standardize features\n",
    "scaler = StandardScaler()\n",
    "X_scaled = scaler.fit_transform(X)\n",
    "\n",
    "# Save the scaler\n",
    "joblib.dump(scaler, \"svm_addict_scaler.pkl\")\n",
    "\n",
    "# Split into training and testing\n",
    "X_train, X_test, y_train, y_test = train_test_split(X_scaled, y, test_size=0.2, random_state=42)\n"
   ]
  },
  {
   "cell_type": "code",
   "execution_count": 4,
   "metadata": {},
   "outputs": [
    {
     "name": "stdout",
     "output_type": "stream",
     "text": [
      "Fitting 5 folds for each of 10 candidates, totalling 50 fits\n"
     ]
    },
    {
     "data": {
      "text/plain": [
       "['svm_addict_tuned.pkl']"
      ]
     },
     "execution_count": 4,
     "metadata": {},
     "output_type": "execute_result"
    }
   ],
   "source": [
    "# ---------------- Hyperparameter Tuning (Grid Search) ----------------\n",
    "param_grid = {\n",
    "    \"C\": [0.1, 0.5, 1, 5, 10],  # Regularization parameter\n",
    "    \"kernel\": [\"linear\", \"rbf\"],  # Linear and RBF kernel\n",
    "}\n",
    "\n",
    "svm = SVC(probability=True, class_weight=\"balanced\", random_state=42)\n",
    "\n",
    "grid_search = GridSearchCV(svm, param_grid, cv=5, scoring=\"roc_auc\", n_jobs=-1, verbose=1)\n",
    "grid_search.fit(X_train, y_train)\n",
    "\n",
    "# Get the best model\n",
    "best_svm = grid_search.best_estimator_\n",
    "\n",
    "# Save the trained SVM model\n",
    "joblib.dump(best_svm, \"svm_addict_tuned.pkl\")"
   ]
  },
  {
   "cell_type": "code",
   "execution_count": 9,
   "metadata": {},
   "outputs": [
    {
     "name": "stdout",
     "output_type": "stream",
     "text": [
      "\n",
      " Tuned SVM Model for Trauma Disorder vs. Healthy Control\n",
      " Best Parameters: {'C': 10, 'kernel': 'rbf'}\n",
      " Accuracy: 0.5000\n",
      " AUC Score: 0.4906\n"
     ]
    }
   ],
   "source": [
    "# ---------------- Evaluate Best Model ----------------\n",
    "y_pred = best_svm.predict(X_test)\n",
    "y_pred_prob = best_svm.predict_proba(X_test)[:, 1]\n",
    "\n",
    "accuracy = accuracy_score(y_test, y_pred)\n",
    "auc = roc_auc_score(y_test, y_pred_prob)\n",
    "\n",
    "print(f\"\\n Tuned SVM Model for Trauma Disorder vs. Healthy Control\")\n",
    "print(f\" Best Parameters: {grid_search.best_params_}\")\n",
    "print(f\" Accuracy: {accuracy:.4f}\")\n",
    "print(f\" AUC Score: {auc:.4f}\")"
   ]
  },
  {
   "cell_type": "code",
   "execution_count": 13,
   "metadata": {},
   "outputs": [],
   "source": [
    "def predict_mood_disorder(new_data_path):\n",
    "    \"\"\"\n",
    "    Loads new EEG data, scales it, and predicts Mood Disorder probability.\n",
    "    \"\"\"\n",
    "    # Load new data\n",
    "    new_data = pd.read_csv(new_data_path, usecols=relevant_columns[1:])  # Exclude \"main.disorder\"\n",
    "    \n",
    "    # Load saved scaler and model\n",
    "    scaler = joblib.load(\"svm_addict_scaler.pkl\")\n",
    "    svm = joblib.load(\"svm_addict_tuned.pkl\")\n",
    "\n",
    "    # Load new data\n",
    "    new_data = pd.read_csv(new_data_path, usecols=relevant_columns[1:])  # Exclude \"main.disorder\"\n",
    "\n",
    "# Convert DataFrame to NumPy before applying StandardScaler\n",
    "    new_data_scaled = scaler.transform(new_data.values)  # <-- FIXED\n",
    "\n",
    "\n",
    "    # Predict probabilities\n",
    "    predictions = svm.predict_proba(new_data_scaled)[:, 1]  # Probability of Mood Disorder\n",
    "\n",
    "    return predictions"
   ]
  },
  {
   "cell_type": "code",
   "execution_count": 14,
   "metadata": {},
   "outputs": [],
   "source": [
    "preds = predict_mood_disorder(\"data.csv\")\n"
   ]
  },
  {
   "cell_type": "code",
   "execution_count": 15,
   "metadata": {},
   "outputs": [
    {
     "name": "stdout",
     "output_type": "stream",
     "text": [
      "🔹 Optimal Decision Threshold: 0.7445\n"
     ]
    }
   ],
   "source": [
    "from sklearn.metrics import roc_curve\n",
    "\n",
    "# Compute ROC curve\n",
    "fpr, tpr, thresholds = roc_curve(y_test, y_pred_prob)\n",
    "\n",
    "# Find the optimal threshold (Youden’s J statistic: max(TPR - FPR))\n",
    "optimal_idx = np.argmax(tpr - fpr)\n",
    "optimal_threshold = thresholds[optimal_idx]\n",
    "\n",
    "print(f\"🔹 Optimal Decision Threshold: {optimal_threshold:.4f}\")\n",
    "\n",
    "# Convert probabilities to labels using the optimal threshold\n",
    "pred_labels = (y_pred_prob >= optimal_threshold).astype(int)\n"
   ]
  },
  {
   "cell_type": "code",
   "execution_count": 16,
   "metadata": {},
   "outputs": [
    {
     "name": "stdout",
     "output_type": "stream",
     "text": [
      "[0.72845777 0.7087211  0.69321872 0.69350327 0.64210602 0.44354004\n",
      " 0.7949923  0.61991721 0.68042164 0.4607295  0.76408364 0.76119109\n",
      " 0.67464796 0.71140553 0.58107953 0.82639099 0.74220143 0.67434394\n",
      " 0.82545698 0.78836415 0.5        0.64059332 0.63844083 0.77131275\n",
      " 0.82226958 0.68030624 0.64737466 0.76208576 0.71606733 0.6938843\n",
      " 0.58917904 0.79966792 0.58126675 0.69302269 0.54252774 0.70222418\n",
      " 0.73324888 0.65073696 0.71289627 0.5684412  0.82921376 0.75656954\n",
      " 0.68097579 0.72543195 0.78520097 0.67878564 0.78582144 0.87188607\n",
      " 0.41002708 0.6560393  0.64796182 0.70366987 0.70310913 0.74685128\n",
      " 0.6369752  0.60951981 0.7408852  0.73302703 0.5        0.74038924\n",
      " 0.71168765 0.71450872 0.47224907 0.70922858 0.69001527 0.7109336\n",
      " 0.5        0.77361795 0.75267754 0.60295149 0.70553003 0.63745699\n",
      " 0.64727806 0.76499913 0.67273533 0.79215979 0.57428631 0.76431655\n",
      " 0.68758271 0.7701906  0.48349877 0.75282904 0.80225682 0.67260821\n",
      " 0.55968444 0.7849671  0.61641706 0.76201505 0.68543128 0.65754046\n",
      " 0.7354981  0.72367453 0.85438285]\n"
     ]
    }
   ],
   "source": [
    "print(preds)"
   ]
  },
  {
   "cell_type": "code",
   "execution_count": 17,
   "metadata": {},
   "outputs": [
    {
     "name": "stdout",
     "output_type": "stream",
     "text": [
      "\n",
      "Predicted Labels:\n",
      " ['Healthy control', 'Healthy control', 'Healthy control', 'Healthy control', 'Healthy control', 'Healthy control', 'Addictive disorder', 'Healthy control', 'Healthy control', 'Healthy control', 'Addictive disorder', 'Addictive disorder', 'Healthy control', 'Healthy control', 'Healthy control', 'Addictive disorder', 'Healthy control', 'Healthy control', 'Addictive disorder', 'Addictive disorder', 'Healthy control', 'Healthy control', 'Healthy control', 'Addictive disorder', 'Addictive disorder', 'Healthy control', 'Healthy control', 'Addictive disorder', 'Healthy control', 'Healthy control', 'Healthy control', 'Addictive disorder', 'Healthy control', 'Healthy control', 'Healthy control', 'Healthy control', 'Healthy control', 'Healthy control', 'Healthy control', 'Healthy control', 'Addictive disorder', 'Addictive disorder', 'Healthy control', 'Healthy control', 'Addictive disorder', 'Healthy control', 'Addictive disorder', 'Addictive disorder', 'Healthy control', 'Healthy control', 'Healthy control', 'Healthy control', 'Healthy control', 'Addictive disorder', 'Healthy control', 'Healthy control', 'Healthy control', 'Healthy control', 'Healthy control', 'Healthy control', 'Healthy control', 'Healthy control', 'Healthy control', 'Healthy control', 'Healthy control', 'Healthy control', 'Healthy control', 'Addictive disorder', 'Addictive disorder', 'Healthy control', 'Healthy control', 'Healthy control', 'Healthy control', 'Addictive disorder', 'Healthy control', 'Addictive disorder', 'Healthy control', 'Addictive disorder', 'Healthy control', 'Addictive disorder', 'Healthy control', 'Addictive disorder', 'Addictive disorder', 'Healthy control', 'Healthy control', 'Addictive disorder', 'Healthy control', 'Addictive disorder', 'Healthy control', 'Healthy control', 'Healthy control', 'Healthy control', 'Addictive disorder']\n"
     ]
    }
   ],
   "source": [
    "def decode_predictions(preds):\n",
    "    \"\"\"\n",
    "    Convert predictions (0,1) back to disorder labels.\n",
    "    \"\"\"\n",
    "    label_map = {0: \"Healthy control\", 1: \"Addictive disorder\"}\n",
    "    return [label_map[pred] for pred in preds]\n",
    "\n",
    "# Example usage\n",
    "pred_labels = (preds >= 0.7445).astype(int)  # Convert probabilities to binary labels\n",
    "decoded_labels = decode_predictions(pred_labels)\n",
    "\n",
    "print(\"\\nPredicted Labels:\\n\", decoded_labels)"
   ]
  },
  {
   "cell_type": "code",
   "execution_count": 18,
   "metadata": {},
   "outputs": [
    {
     "name": "stdout",
     "output_type": "stream",
     "text": [
      " Predictions saved to 'predicted_labels.csv'\n"
     ]
    }
   ],
   "source": [
    "import pandas as pd\n",
    "\n",
    "# Convert predictions into a DataFrame\n",
    "output_df = pd.DataFrame({\"Predicted Label\": decoded_labels})\n",
    "\n",
    "# Save to CSV\n",
    "output_df.to_csv(\"predicted_addict_labels.csv\", index=False)\n",
    "\n",
    "print(\" Predictions saved to 'predicted_labels.csv'\")\n"
   ]
  }
 ],
 "metadata": {
  "kernelspec": {
   "display_name": "rice",
   "language": "python",
   "name": "python3"
  },
  "language_info": {
   "codemirror_mode": {
    "name": "ipython",
    "version": 3
   },
   "file_extension": ".py",
   "mimetype": "text/x-python",
   "name": "python",
   "nbconvert_exporter": "python",
   "pygments_lexer": "ipython3",
   "version": "3.9.19"
  }
 },
 "nbformat": 4,
 "nbformat_minor": 2
}
